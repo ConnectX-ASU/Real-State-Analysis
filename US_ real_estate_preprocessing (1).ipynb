{
 "cells": [
  {
   "cell_type": "markdown",
   "metadata": {
    "id": "ReGII9qSuJlQ"
   },
   "source": [
    "# Importing libraries & Reading the data"
   ]
  },
  {
   "cell_type": "code",
   "execution_count": 1,
   "metadata": {
    "id": "4TcdPtUUtt3S"
   },
   "outputs": [],
   "source": [
    "import pandas as pd\n",
    "import numpy as np\n",
    "import matplotlib.pyplot as plt\n",
    "import seaborn as sns\n",
    "import warnings\n",
    "from sklearn.cluster import KMeans\n",
    "from sklearn.cluster import DBSCAN\n",
    "# Ignore warnings\n",
    "warnings.filterwarnings('ignore')"
   ]
  },
  {
   "cell_type": "code",
   "execution_count": 2,
   "metadata": {
    "id": "CVm3MmV9Qr2s"
   },
   "outputs": [],
   "source": [
    "from decimal import Decimal, ROUND_HALF_UP"
   ]
  },
  {
   "cell_type": "code",
   "execution_count": 3,
   "metadata": {
    "id": "kzE50tmiRRXm"
   },
   "outputs": [],
   "source": [
    "import decimal\n",
    "precision = decimal.Decimal('0.01')"
   ]
  },
  {
   "cell_type": "code",
   "execution_count": 4,
   "metadata": {
    "id": "wOJkwSeiPzPT"
   },
   "outputs": [],
   "source": [
    "pd.set_option('display.precision', 2)"
   ]
  },
  {
   "cell_type": "code",
   "execution_count": 51,
   "metadata": {
    "colab": {
     "base_uri": "https://localhost:8080/",
     "height": 203
    },
    "id": "0hOM2FeOyOot",
    "outputId": "8ef524eb-742c-42e0-fcb2-14be19f27e4a"
   },
   "outputs": [],
   "source": [
    "df = pd.read_csv('realtor-data.zip.csv')"
   ]
  },
  {
   "cell_type": "code",
   "execution_count": 6,
   "metadata": {
    "id": "ajo_y2DHyWNj"
   },
   "outputs": [
    {
     "data": {
      "text/html": [
       "<div>\n",
       "<style scoped>\n",
       "    .dataframe tbody tr th:only-of-type {\n",
       "        vertical-align: middle;\n",
       "    }\n",
       "\n",
       "    .dataframe tbody tr th {\n",
       "        vertical-align: top;\n",
       "    }\n",
       "\n",
       "    .dataframe thead th {\n",
       "        text-align: right;\n",
       "    }\n",
       "</style>\n",
       "<table border=\"1\" class=\"dataframe\">\n",
       "  <thead>\n",
       "    <tr style=\"text-align: right;\">\n",
       "      <th></th>\n",
       "      <th>status</th>\n",
       "      <th>bed</th>\n",
       "      <th>bath</th>\n",
       "      <th>acre_lot</th>\n",
       "      <th>city</th>\n",
       "      <th>state</th>\n",
       "      <th>zip_code</th>\n",
       "      <th>house_size</th>\n",
       "      <th>prev_sold_date</th>\n",
       "      <th>price</th>\n",
       "    </tr>\n",
       "  </thead>\n",
       "  <tbody>\n",
       "    <tr>\n",
       "      <th>0</th>\n",
       "      <td>for_sale</td>\n",
       "      <td>3.0</td>\n",
       "      <td>2.0</td>\n",
       "      <td>0.12</td>\n",
       "      <td>Adjuntas</td>\n",
       "      <td>Puerto Rico</td>\n",
       "      <td>601.0</td>\n",
       "      <td>920.0</td>\n",
       "      <td>NaN</td>\n",
       "      <td>105000.0</td>\n",
       "    </tr>\n",
       "    <tr>\n",
       "      <th>1</th>\n",
       "      <td>for_sale</td>\n",
       "      <td>4.0</td>\n",
       "      <td>2.0</td>\n",
       "      <td>0.08</td>\n",
       "      <td>Adjuntas</td>\n",
       "      <td>Puerto Rico</td>\n",
       "      <td>601.0</td>\n",
       "      <td>1527.0</td>\n",
       "      <td>NaN</td>\n",
       "      <td>80000.0</td>\n",
       "    </tr>\n",
       "    <tr>\n",
       "      <th>2</th>\n",
       "      <td>for_sale</td>\n",
       "      <td>2.0</td>\n",
       "      <td>1.0</td>\n",
       "      <td>0.15</td>\n",
       "      <td>Juana Diaz</td>\n",
       "      <td>Puerto Rico</td>\n",
       "      <td>795.0</td>\n",
       "      <td>748.0</td>\n",
       "      <td>NaN</td>\n",
       "      <td>67000.0</td>\n",
       "    </tr>\n",
       "    <tr>\n",
       "      <th>3</th>\n",
       "      <td>for_sale</td>\n",
       "      <td>4.0</td>\n",
       "      <td>2.0</td>\n",
       "      <td>0.10</td>\n",
       "      <td>Ponce</td>\n",
       "      <td>Puerto Rico</td>\n",
       "      <td>731.0</td>\n",
       "      <td>1800.0</td>\n",
       "      <td>NaN</td>\n",
       "      <td>145000.0</td>\n",
       "    </tr>\n",
       "    <tr>\n",
       "      <th>4</th>\n",
       "      <td>for_sale</td>\n",
       "      <td>6.0</td>\n",
       "      <td>2.0</td>\n",
       "      <td>0.05</td>\n",
       "      <td>Mayaguez</td>\n",
       "      <td>Puerto Rico</td>\n",
       "      <td>680.0</td>\n",
       "      <td>NaN</td>\n",
       "      <td>NaN</td>\n",
       "      <td>65000.0</td>\n",
       "    </tr>\n",
       "    <tr>\n",
       "      <th>5</th>\n",
       "      <td>for_sale</td>\n",
       "      <td>4.0</td>\n",
       "      <td>3.0</td>\n",
       "      <td>0.46</td>\n",
       "      <td>San Sebastian</td>\n",
       "      <td>Puerto Rico</td>\n",
       "      <td>612.0</td>\n",
       "      <td>2520.0</td>\n",
       "      <td>NaN</td>\n",
       "      <td>179000.0</td>\n",
       "    </tr>\n",
       "    <tr>\n",
       "      <th>6</th>\n",
       "      <td>for_sale</td>\n",
       "      <td>3.0</td>\n",
       "      <td>1.0</td>\n",
       "      <td>0.20</td>\n",
       "      <td>Ciales</td>\n",
       "      <td>Puerto Rico</td>\n",
       "      <td>639.0</td>\n",
       "      <td>2040.0</td>\n",
       "      <td>NaN</td>\n",
       "      <td>50000.0</td>\n",
       "    </tr>\n",
       "    <tr>\n",
       "      <th>7</th>\n",
       "      <td>for_sale</td>\n",
       "      <td>3.0</td>\n",
       "      <td>2.0</td>\n",
       "      <td>0.08</td>\n",
       "      <td>Ponce</td>\n",
       "      <td>Puerto Rico</td>\n",
       "      <td>731.0</td>\n",
       "      <td>1050.0</td>\n",
       "      <td>NaN</td>\n",
       "      <td>71600.0</td>\n",
       "    </tr>\n",
       "    <tr>\n",
       "      <th>8</th>\n",
       "      <td>for_sale</td>\n",
       "      <td>2.0</td>\n",
       "      <td>1.0</td>\n",
       "      <td>0.09</td>\n",
       "      <td>Ponce</td>\n",
       "      <td>Puerto Rico</td>\n",
       "      <td>730.0</td>\n",
       "      <td>1092.0</td>\n",
       "      <td>NaN</td>\n",
       "      <td>100000.0</td>\n",
       "    </tr>\n",
       "    <tr>\n",
       "      <th>9</th>\n",
       "      <td>for_sale</td>\n",
       "      <td>5.0</td>\n",
       "      <td>3.0</td>\n",
       "      <td>7.46</td>\n",
       "      <td>Las Marias</td>\n",
       "      <td>Puerto Rico</td>\n",
       "      <td>670.0</td>\n",
       "      <td>5403.0</td>\n",
       "      <td>NaN</td>\n",
       "      <td>300000.0</td>\n",
       "    </tr>\n",
       "    <tr>\n",
       "      <th>10</th>\n",
       "      <td>for_sale</td>\n",
       "      <td>3.0</td>\n",
       "      <td>2.0</td>\n",
       "      <td>13.39</td>\n",
       "      <td>Isabela</td>\n",
       "      <td>Puerto Rico</td>\n",
       "      <td>662.0</td>\n",
       "      <td>1106.0</td>\n",
       "      <td>NaN</td>\n",
       "      <td>89000.0</td>\n",
       "    </tr>\n",
       "    <tr>\n",
       "      <th>11</th>\n",
       "      <td>for_sale</td>\n",
       "      <td>3.0</td>\n",
       "      <td>2.0</td>\n",
       "      <td>0.08</td>\n",
       "      <td>Juana Diaz</td>\n",
       "      <td>Puerto Rico</td>\n",
       "      <td>795.0</td>\n",
       "      <td>1045.0</td>\n",
       "      <td>NaN</td>\n",
       "      <td>150000.0</td>\n",
       "    </tr>\n",
       "    <tr>\n",
       "      <th>12</th>\n",
       "      <td>for_sale</td>\n",
       "      <td>3.0</td>\n",
       "      <td>2.0</td>\n",
       "      <td>0.10</td>\n",
       "      <td>Lares</td>\n",
       "      <td>Puerto Rico</td>\n",
       "      <td>669.0</td>\n",
       "      <td>4161.0</td>\n",
       "      <td>NaN</td>\n",
       "      <td>155000.0</td>\n",
       "    </tr>\n",
       "    <tr>\n",
       "      <th>13</th>\n",
       "      <td>for_sale</td>\n",
       "      <td>5.0</td>\n",
       "      <td>2.0</td>\n",
       "      <td>0.12</td>\n",
       "      <td>Utuado</td>\n",
       "      <td>Puerto Rico</td>\n",
       "      <td>641.0</td>\n",
       "      <td>1620.0</td>\n",
       "      <td>NaN</td>\n",
       "      <td>79000.0</td>\n",
       "    </tr>\n",
       "    <tr>\n",
       "      <th>14</th>\n",
       "      <td>for_sale</td>\n",
       "      <td>5.0</td>\n",
       "      <td>5.0</td>\n",
       "      <td>0.74</td>\n",
       "      <td>Ponce</td>\n",
       "      <td>Puerto Rico</td>\n",
       "      <td>731.0</td>\n",
       "      <td>2677.0</td>\n",
       "      <td>NaN</td>\n",
       "      <td>649000.0</td>\n",
       "    </tr>\n",
       "    <tr>\n",
       "      <th>15</th>\n",
       "      <td>for_sale</td>\n",
       "      <td>3.0</td>\n",
       "      <td>2.0</td>\n",
       "      <td>0.08</td>\n",
       "      <td>Yauco</td>\n",
       "      <td>Puerto Rico</td>\n",
       "      <td>698.0</td>\n",
       "      <td>1100.0</td>\n",
       "      <td>NaN</td>\n",
       "      <td>120000.0</td>\n",
       "    </tr>\n",
       "    <tr>\n",
       "      <th>16</th>\n",
       "      <td>for_sale</td>\n",
       "      <td>4.0</td>\n",
       "      <td>4.0</td>\n",
       "      <td>0.22</td>\n",
       "      <td>Mayaguez</td>\n",
       "      <td>Puerto Rico</td>\n",
       "      <td>680.0</td>\n",
       "      <td>3450.0</td>\n",
       "      <td>NaN</td>\n",
       "      <td>235000.0</td>\n",
       "    </tr>\n",
       "    <tr>\n",
       "      <th>17</th>\n",
       "      <td>for_sale</td>\n",
       "      <td>3.0</td>\n",
       "      <td>2.0</td>\n",
       "      <td>0.08</td>\n",
       "      <td>Ponce</td>\n",
       "      <td>Puerto Rico</td>\n",
       "      <td>728.0</td>\n",
       "      <td>1500.0</td>\n",
       "      <td>NaN</td>\n",
       "      <td>105000.0</td>\n",
       "    </tr>\n",
       "    <tr>\n",
       "      <th>18</th>\n",
       "      <td>for_sale</td>\n",
       "      <td>3.0</td>\n",
       "      <td>2.0</td>\n",
       "      <td>3.88</td>\n",
       "      <td>San Sebastian</td>\n",
       "      <td>Puerto Rico</td>\n",
       "      <td>685.0</td>\n",
       "      <td>4000.0</td>\n",
       "      <td>NaN</td>\n",
       "      <td>575000.0</td>\n",
       "    </tr>\n",
       "    <tr>\n",
       "      <th>19</th>\n",
       "      <td>for_sale</td>\n",
       "      <td>6.0</td>\n",
       "      <td>3.0</td>\n",
       "      <td>0.25</td>\n",
       "      <td>Anasco</td>\n",
       "      <td>Puerto Rico</td>\n",
       "      <td>610.0</td>\n",
       "      <td>1230.0</td>\n",
       "      <td>NaN</td>\n",
       "      <td>140000.0</td>\n",
       "    </tr>\n",
       "  </tbody>\n",
       "</table>\n",
       "</div>"
      ],
      "text/plain": [
       "      status  bed  bath  acre_lot           city        state  zip_code  \\\n",
       "0   for_sale  3.0   2.0      0.12       Adjuntas  Puerto Rico     601.0   \n",
       "1   for_sale  4.0   2.0      0.08       Adjuntas  Puerto Rico     601.0   \n",
       "2   for_sale  2.0   1.0      0.15     Juana Diaz  Puerto Rico     795.0   \n",
       "3   for_sale  4.0   2.0      0.10          Ponce  Puerto Rico     731.0   \n",
       "4   for_sale  6.0   2.0      0.05       Mayaguez  Puerto Rico     680.0   \n",
       "5   for_sale  4.0   3.0      0.46  San Sebastian  Puerto Rico     612.0   \n",
       "6   for_sale  3.0   1.0      0.20         Ciales  Puerto Rico     639.0   \n",
       "7   for_sale  3.0   2.0      0.08          Ponce  Puerto Rico     731.0   \n",
       "8   for_sale  2.0   1.0      0.09          Ponce  Puerto Rico     730.0   \n",
       "9   for_sale  5.0   3.0      7.46     Las Marias  Puerto Rico     670.0   \n",
       "10  for_sale  3.0   2.0     13.39        Isabela  Puerto Rico     662.0   \n",
       "11  for_sale  3.0   2.0      0.08     Juana Diaz  Puerto Rico     795.0   \n",
       "12  for_sale  3.0   2.0      0.10          Lares  Puerto Rico     669.0   \n",
       "13  for_sale  5.0   2.0      0.12         Utuado  Puerto Rico     641.0   \n",
       "14  for_sale  5.0   5.0      0.74          Ponce  Puerto Rico     731.0   \n",
       "15  for_sale  3.0   2.0      0.08          Yauco  Puerto Rico     698.0   \n",
       "16  for_sale  4.0   4.0      0.22       Mayaguez  Puerto Rico     680.0   \n",
       "17  for_sale  3.0   2.0      0.08          Ponce  Puerto Rico     728.0   \n",
       "18  for_sale  3.0   2.0      3.88  San Sebastian  Puerto Rico     685.0   \n",
       "19  for_sale  6.0   3.0      0.25         Anasco  Puerto Rico     610.0   \n",
       "\n",
       "    house_size prev_sold_date     price  \n",
       "0        920.0            NaN  105000.0  \n",
       "1       1527.0            NaN   80000.0  \n",
       "2        748.0            NaN   67000.0  \n",
       "3       1800.0            NaN  145000.0  \n",
       "4          NaN            NaN   65000.0  \n",
       "5       2520.0            NaN  179000.0  \n",
       "6       2040.0            NaN   50000.0  \n",
       "7       1050.0            NaN   71600.0  \n",
       "8       1092.0            NaN  100000.0  \n",
       "9       5403.0            NaN  300000.0  \n",
       "10      1106.0            NaN   89000.0  \n",
       "11      1045.0            NaN  150000.0  \n",
       "12      4161.0            NaN  155000.0  \n",
       "13      1620.0            NaN   79000.0  \n",
       "14      2677.0            NaN  649000.0  \n",
       "15      1100.0            NaN  120000.0  \n",
       "16      3450.0            NaN  235000.0  \n",
       "17      1500.0            NaN  105000.0  \n",
       "18      4000.0            NaN  575000.0  \n",
       "19      1230.0            NaN  140000.0  "
      ]
     },
     "execution_count": 6,
     "metadata": {},
     "output_type": "execute_result"
    }
   ],
   "source": [
    "df.head(20)"
   ]
  },
  {
   "cell_type": "code",
   "execution_count": 7,
   "metadata": {},
   "outputs": [
    {
     "data": {
      "text/html": [
       "<div>\n",
       "<style scoped>\n",
       "    .dataframe tbody tr th:only-of-type {\n",
       "        vertical-align: middle;\n",
       "    }\n",
       "\n",
       "    .dataframe tbody tr th {\n",
       "        vertical-align: top;\n",
       "    }\n",
       "\n",
       "    .dataframe thead th {\n",
       "        text-align: right;\n",
       "    }\n",
       "</style>\n",
       "<table border=\"1\" class=\"dataframe\">\n",
       "  <thead>\n",
       "    <tr style=\"text-align: right;\">\n",
       "      <th></th>\n",
       "      <th>status</th>\n",
       "      <th>bed</th>\n",
       "      <th>bath</th>\n",
       "      <th>acre_lot</th>\n",
       "      <th>city</th>\n",
       "      <th>state</th>\n",
       "      <th>zip_code</th>\n",
       "      <th>house_size</th>\n",
       "      <th>prev_sold_date</th>\n",
       "      <th>price</th>\n",
       "    </tr>\n",
       "  </thead>\n",
       "  <tbody>\n",
       "    <tr>\n",
       "      <th>991165</th>\n",
       "      <td>for_sale</td>\n",
       "      <td>NaN</td>\n",
       "      <td>NaN</td>\n",
       "      <td>0.30</td>\n",
       "      <td>Sloatsburg</td>\n",
       "      <td>New York</td>\n",
       "      <td>10974.0</td>\n",
       "      <td>NaN</td>\n",
       "      <td>NaN</td>\n",
       "      <td>3.00e+04</td>\n",
       "    </tr>\n",
       "    <tr>\n",
       "      <th>202212</th>\n",
       "      <td>for_sale</td>\n",
       "      <td>3.0</td>\n",
       "      <td>2.0</td>\n",
       "      <td>0.47</td>\n",
       "      <td>East Falmouth</td>\n",
       "      <td>Massachusetts</td>\n",
       "      <td>2536.0</td>\n",
       "      <td>984.0</td>\n",
       "      <td>2005-09-19</td>\n",
       "      <td>4.49e+05</td>\n",
       "    </tr>\n",
       "    <tr>\n",
       "      <th>1356362</th>\n",
       "      <td>for_sale</td>\n",
       "      <td>5.0</td>\n",
       "      <td>2.0</td>\n",
       "      <td>0.24</td>\n",
       "      <td>West Winfield</td>\n",
       "      <td>New York</td>\n",
       "      <td>13491.0</td>\n",
       "      <td>2398.0</td>\n",
       "      <td>NaN</td>\n",
       "      <td>1.75e+05</td>\n",
       "    </tr>\n",
       "    <tr>\n",
       "      <th>773383</th>\n",
       "      <td>for_sale</td>\n",
       "      <td>4.0</td>\n",
       "      <td>2.0</td>\n",
       "      <td>0.08</td>\n",
       "      <td>Clifton</td>\n",
       "      <td>New Jersey</td>\n",
       "      <td>7011.0</td>\n",
       "      <td>NaN</td>\n",
       "      <td>1999-10-04</td>\n",
       "      <td>6.50e+05</td>\n",
       "    </tr>\n",
       "    <tr>\n",
       "      <th>1131102</th>\n",
       "      <td>for_sale</td>\n",
       "      <td>5.0</td>\n",
       "      <td>4.0</td>\n",
       "      <td>0.40</td>\n",
       "      <td>Southampton</td>\n",
       "      <td>New York</td>\n",
       "      <td>11968.0</td>\n",
       "      <td>4700.0</td>\n",
       "      <td>2004-08-17</td>\n",
       "      <td>7.45e+06</td>\n",
       "    </tr>\n",
       "    <tr>\n",
       "      <th>337867</th>\n",
       "      <td>for_sale</td>\n",
       "      <td>NaN</td>\n",
       "      <td>NaN</td>\n",
       "      <td>2.10</td>\n",
       "      <td>Thetford</td>\n",
       "      <td>Vermont</td>\n",
       "      <td>5074.0</td>\n",
       "      <td>NaN</td>\n",
       "      <td>NaN</td>\n",
       "      <td>1.99e+05</td>\n",
       "    </tr>\n",
       "    <tr>\n",
       "      <th>1234694</th>\n",
       "      <td>for_sale</td>\n",
       "      <td>NaN</td>\n",
       "      <td>NaN</td>\n",
       "      <td>47.90</td>\n",
       "      <td>Red Hook</td>\n",
       "      <td>New York</td>\n",
       "      <td>12571.0</td>\n",
       "      <td>NaN</td>\n",
       "      <td>2002-01-06</td>\n",
       "      <td>3.50e+05</td>\n",
       "    </tr>\n",
       "    <tr>\n",
       "      <th>1175029</th>\n",
       "      <td>for_sale</td>\n",
       "      <td>3.0</td>\n",
       "      <td>1.0</td>\n",
       "      <td>0.30</td>\n",
       "      <td>Albany</td>\n",
       "      <td>New York</td>\n",
       "      <td>12205.0</td>\n",
       "      <td>1125.0</td>\n",
       "      <td>NaN</td>\n",
       "      <td>3.00e+05</td>\n",
       "    </tr>\n",
       "    <tr>\n",
       "      <th>653683</th>\n",
       "      <td>for_sale</td>\n",
       "      <td>3.0</td>\n",
       "      <td>2.0</td>\n",
       "      <td>0.14</td>\n",
       "      <td>Blackwood</td>\n",
       "      <td>New Jersey</td>\n",
       "      <td>8012.0</td>\n",
       "      <td>1321.0</td>\n",
       "      <td>1994-10-13</td>\n",
       "      <td>2.70e+05</td>\n",
       "    </tr>\n",
       "    <tr>\n",
       "      <th>180224</th>\n",
       "      <td>for_sale</td>\n",
       "      <td>2.0</td>\n",
       "      <td>3.0</td>\n",
       "      <td>NaN</td>\n",
       "      <td>Boston</td>\n",
       "      <td>Massachusetts</td>\n",
       "      <td>2128.0</td>\n",
       "      <td>1175.0</td>\n",
       "      <td>NaN</td>\n",
       "      <td>6.89e+05</td>\n",
       "    </tr>\n",
       "    <tr>\n",
       "      <th>409947</th>\n",
       "      <td>for_sale</td>\n",
       "      <td>3.0</td>\n",
       "      <td>2.0</td>\n",
       "      <td>2.12</td>\n",
       "      <td>Montville</td>\n",
       "      <td>Connecticut</td>\n",
       "      <td>6382.0</td>\n",
       "      <td>1470.0</td>\n",
       "      <td>NaN</td>\n",
       "      <td>3.00e+05</td>\n",
       "    </tr>\n",
       "    <tr>\n",
       "      <th>439413</th>\n",
       "      <td>for_sale</td>\n",
       "      <td>3.0</td>\n",
       "      <td>3.0</td>\n",
       "      <td>3.06</td>\n",
       "      <td>Southbury</td>\n",
       "      <td>Connecticut</td>\n",
       "      <td>6488.0</td>\n",
       "      <td>3294.0</td>\n",
       "      <td>2006-01-18</td>\n",
       "      <td>4.65e+05</td>\n",
       "    </tr>\n",
       "    <tr>\n",
       "      <th>849579</th>\n",
       "      <td>for_sale</td>\n",
       "      <td>4.0</td>\n",
       "      <td>3.0</td>\n",
       "      <td>0.11</td>\n",
       "      <td>Staten Island</td>\n",
       "      <td>New York</td>\n",
       "      <td>10308.0</td>\n",
       "      <td>3060.0</td>\n",
       "      <td>NaN</td>\n",
       "      <td>1.05e+06</td>\n",
       "    </tr>\n",
       "    <tr>\n",
       "      <th>1186181</th>\n",
       "      <td>for_sale</td>\n",
       "      <td>5.0</td>\n",
       "      <td>2.0</td>\n",
       "      <td>0.30</td>\n",
       "      <td>Rensselaer</td>\n",
       "      <td>New York</td>\n",
       "      <td>12144.0</td>\n",
       "      <td>2000.0</td>\n",
       "      <td>2005-04-21</td>\n",
       "      <td>1.99e+05</td>\n",
       "    </tr>\n",
       "    <tr>\n",
       "      <th>96916</th>\n",
       "      <td>for_sale</td>\n",
       "      <td>5.0</td>\n",
       "      <td>5.0</td>\n",
       "      <td>8.00</td>\n",
       "      <td>Scituate</td>\n",
       "      <td>Rhode Island</td>\n",
       "      <td>2857.0</td>\n",
       "      <td>3462.0</td>\n",
       "      <td>NaN</td>\n",
       "      <td>7.77e+05</td>\n",
       "    </tr>\n",
       "    <tr>\n",
       "      <th>1225624</th>\n",
       "      <td>for_sale</td>\n",
       "      <td>5.0</td>\n",
       "      <td>3.0</td>\n",
       "      <td>0.12</td>\n",
       "      <td>Kingston</td>\n",
       "      <td>New York</td>\n",
       "      <td>12401.0</td>\n",
       "      <td>1520.0</td>\n",
       "      <td>2014-12-02</td>\n",
       "      <td>3.25e+05</td>\n",
       "    </tr>\n",
       "    <tr>\n",
       "      <th>993544</th>\n",
       "      <td>for_sale</td>\n",
       "      <td>5.0</td>\n",
       "      <td>4.0</td>\n",
       "      <td>1.37</td>\n",
       "      <td>Nyack</td>\n",
       "      <td>New York</td>\n",
       "      <td>10960.0</td>\n",
       "      <td>5016.0</td>\n",
       "      <td>2020-06-03</td>\n",
       "      <td>2.25e+06</td>\n",
       "    </tr>\n",
       "    <tr>\n",
       "      <th>518809</th>\n",
       "      <td>for_sale</td>\n",
       "      <td>4.0</td>\n",
       "      <td>1.0</td>\n",
       "      <td>0.37</td>\n",
       "      <td>Vernon</td>\n",
       "      <td>New Jersey</td>\n",
       "      <td>7422.0</td>\n",
       "      <td>1408.0</td>\n",
       "      <td>2019-12-30</td>\n",
       "      <td>2.45e+05</td>\n",
       "    </tr>\n",
       "    <tr>\n",
       "      <th>506751</th>\n",
       "      <td>for_sale</td>\n",
       "      <td>1.0</td>\n",
       "      <td>1.0</td>\n",
       "      <td>NaN</td>\n",
       "      <td>Hackensack</td>\n",
       "      <td>New Jersey</td>\n",
       "      <td>7601.0</td>\n",
       "      <td>NaN</td>\n",
       "      <td>2002-05-08</td>\n",
       "      <td>2.19e+05</td>\n",
       "    </tr>\n",
       "    <tr>\n",
       "      <th>1032641</th>\n",
       "      <td>for_sale</td>\n",
       "      <td>2.0</td>\n",
       "      <td>2.0</td>\n",
       "      <td>NaN</td>\n",
       "      <td>Manhattan</td>\n",
       "      <td>New York</td>\n",
       "      <td>10022.0</td>\n",
       "      <td>1250.0</td>\n",
       "      <td>2013-01-30</td>\n",
       "      <td>5.45e+05</td>\n",
       "    </tr>\n",
       "  </tbody>\n",
       "</table>\n",
       "</div>"
      ],
      "text/plain": [
       "           status  bed  bath  acre_lot           city          state  \\\n",
       "991165   for_sale  NaN   NaN      0.30     Sloatsburg       New York   \n",
       "202212   for_sale  3.0   2.0      0.47  East Falmouth  Massachusetts   \n",
       "1356362  for_sale  5.0   2.0      0.24  West Winfield       New York   \n",
       "773383   for_sale  4.0   2.0      0.08        Clifton     New Jersey   \n",
       "1131102  for_sale  5.0   4.0      0.40    Southampton       New York   \n",
       "337867   for_sale  NaN   NaN      2.10       Thetford        Vermont   \n",
       "1234694  for_sale  NaN   NaN     47.90       Red Hook       New York   \n",
       "1175029  for_sale  3.0   1.0      0.30         Albany       New York   \n",
       "653683   for_sale  3.0   2.0      0.14      Blackwood     New Jersey   \n",
       "180224   for_sale  2.0   3.0       NaN         Boston  Massachusetts   \n",
       "409947   for_sale  3.0   2.0      2.12      Montville    Connecticut   \n",
       "439413   for_sale  3.0   3.0      3.06      Southbury    Connecticut   \n",
       "849579   for_sale  4.0   3.0      0.11  Staten Island       New York   \n",
       "1186181  for_sale  5.0   2.0      0.30     Rensselaer       New York   \n",
       "96916    for_sale  5.0   5.0      8.00       Scituate   Rhode Island   \n",
       "1225624  for_sale  5.0   3.0      0.12       Kingston       New York   \n",
       "993544   for_sale  5.0   4.0      1.37          Nyack       New York   \n",
       "518809   for_sale  4.0   1.0      0.37         Vernon     New Jersey   \n",
       "506751   for_sale  1.0   1.0       NaN     Hackensack     New Jersey   \n",
       "1032641  for_sale  2.0   2.0       NaN      Manhattan       New York   \n",
       "\n",
       "         zip_code  house_size prev_sold_date     price  \n",
       "991165    10974.0         NaN            NaN  3.00e+04  \n",
       "202212     2536.0       984.0     2005-09-19  4.49e+05  \n",
       "1356362   13491.0      2398.0            NaN  1.75e+05  \n",
       "773383     7011.0         NaN     1999-10-04  6.50e+05  \n",
       "1131102   11968.0      4700.0     2004-08-17  7.45e+06  \n",
       "337867     5074.0         NaN            NaN  1.99e+05  \n",
       "1234694   12571.0         NaN     2002-01-06  3.50e+05  \n",
       "1175029   12205.0      1125.0            NaN  3.00e+05  \n",
       "653683     8012.0      1321.0     1994-10-13  2.70e+05  \n",
       "180224     2128.0      1175.0            NaN  6.89e+05  \n",
       "409947     6382.0      1470.0            NaN  3.00e+05  \n",
       "439413     6488.0      3294.0     2006-01-18  4.65e+05  \n",
       "849579    10308.0      3060.0            NaN  1.05e+06  \n",
       "1186181   12144.0      2000.0     2005-04-21  1.99e+05  \n",
       "96916      2857.0      3462.0            NaN  7.77e+05  \n",
       "1225624   12401.0      1520.0     2014-12-02  3.25e+05  \n",
       "993544    10960.0      5016.0     2020-06-03  2.25e+06  \n",
       "518809     7422.0      1408.0     2019-12-30  2.45e+05  \n",
       "506751     7601.0         NaN     2002-05-08  2.19e+05  \n",
       "1032641   10022.0      1250.0     2013-01-30  5.45e+05  "
      ]
     },
     "execution_count": 7,
     "metadata": {},
     "output_type": "execute_result"
    }
   ],
   "source": [
    "df.sample(20)"
   ]
  },
  {
   "cell_type": "markdown",
   "metadata": {
    "id": "pq_JapVMYxA7"
   },
   "source": [
    "**Data Description:**\n",
    "- **Status**: (for_sale/ready to build)\n",
    "- **Bed**: (number of bedrooms)\n",
    "- **Bath**: (Number of bathrooms)\n",
    "- **acre_lot**: (land size measured in acre)\n",
    "- **Address**: city, state, zip_code\n",
    "- **House_size**: living space in square feet\n",
    "- **Prev_sold_date**: Date of the previous sale\n",
    "- **Price**: Current listing price\n"
   ]
  },
  {
   "cell_type": "code",
   "execution_count": 8,
   "metadata": {
    "id": "At9aqP_g0x0X"
   },
   "outputs": [
    {
     "name": "stdout",
     "output_type": "stream",
     "text": [
      "<class 'pandas.core.frame.DataFrame'>\n",
      "RangeIndex: 1401066 entries, 0 to 1401065\n",
      "Data columns (total 10 columns):\n",
      " #   Column          Non-Null Count    Dtype  \n",
      "---  ------          --------------    -----  \n",
      " 0   status          1401066 non-null  object \n",
      " 1   bed             1184538 non-null  float64\n",
      " 2   bath            1206853 non-null  float64\n",
      " 3   acre_lot        1043599 non-null  float64\n",
      " 4   city            1400875 non-null  object \n",
      " 5   state           1401066 non-null  object \n",
      " 6   zip_code        1400587 non-null  float64\n",
      " 7   house_size      950954 non-null   float64\n",
      " 8   prev_sold_date  714773 non-null   object \n",
      " 9   price           1400958 non-null  float64\n",
      "dtypes: float64(6), object(4)\n",
      "memory usage: 106.9+ MB\n"
     ]
    }
   ],
   "source": [
    "df.info()"
   ]
  },
  {
   "cell_type": "markdown",
   "metadata": {
    "id": "sUTWRxHOVSYB"
   },
   "source": [
    "# Data **preprocessing**"
   ]
  },
  {
   "cell_type": "code",
   "execution_count": 9,
   "metadata": {
    "id": "RmCSom5WxdY4"
   },
   "outputs": [
    {
     "data": {
      "text/plain": [
       "array([  3.,   4.,   2.,   6.,   5.,   1.,   9.,  nan,   7.,   8.,  12.,\n",
       "        13.,  10.,  11.,  33.,  24.,  28.,  14.,  18.,  20.,  16.,  15.,\n",
       "        19.,  17.,  40.,  21.,  86.,  31.,  27.,  42.,  60.,  22.,  32.,\n",
       "        99.,  49.,  29.,  30.,  23.,  46.,  36.,  68., 123.,  25.,  47.,\n",
       "        35.,  38.,  64.,  48.,  75.])"
      ]
     },
     "execution_count": 9,
     "metadata": {},
     "output_type": "execute_result"
    }
   ],
   "source": [
    "df['bed'].unique()"
   ]
  },
  {
   "cell_type": "code",
   "execution_count": 10,
   "metadata": {
    "id": "c-cHE7ggQzAt"
   },
   "outputs": [],
   "source": [
    "#df['bed'] = df['bed'].apply(lambda x: Decimal(x).quantize(precision))"
   ]
  },
  {
   "cell_type": "code",
   "execution_count": 11,
   "metadata": {
    "id": "1XtiHh3tRnZf"
   },
   "outputs": [
    {
     "data": {
      "text/plain": [
       "array([  2.,   1.,   3.,   5.,   4.,   7.,   6.,  nan,   8.,   9.,  10.,\n",
       "        12.,  13.,  35.,  11.,  16.,  15.,  18.,  20.,  14.,  36.,  25.,\n",
       "        17.,  19.,  56.,  42.,  51.,  28., 198.,  22.,  33.,  27.,  30.,\n",
       "        29.,  24.,  46.,  21., 123.,  39.,  43.,  32.,  45.,  64.])"
      ]
     },
     "execution_count": 11,
     "metadata": {},
     "output_type": "execute_result"
    }
   ],
   "source": [
    "df['bath'].unique()"
   ]
  },
  {
   "cell_type": "code",
   "execution_count": 12,
   "metadata": {
    "id": "WEXJB2W8RyOp"
   },
   "outputs": [],
   "source": [
    "#df['bath'] = df['bath'].apply(lambda x: Decimal(x).quantize(precision))"
   ]
  },
  {
   "cell_type": "code",
   "execution_count": null,
   "metadata": {
    "id": "MHuvuQDWR21T"
   },
   "outputs": [],
   "source": []
  },
  {
   "cell_type": "markdown",
   "metadata": {
    "id": "ZtADzMf5R9dA"
   },
   "source": [
    "**since bath/bed columns are num.00 we will only change their datatypes from float to interger**"
   ]
  },
  {
   "cell_type": "code",
   "execution_count": 13,
   "metadata": {
    "id": "pWf5yrSDUKSg"
   },
   "outputs": [],
   "source": [
    "df['bed']=df['bed'].fillna(0)\n",
    "df['bath']=df['bath'].fillna(0)"
   ]
  },
  {
   "cell_type": "code",
   "execution_count": 14,
   "metadata": {
    "id": "_LB0lTIGUdK9"
   },
   "outputs": [],
   "source": [
    "df['bed'] = df['bed'].astype(int)"
   ]
  },
  {
   "cell_type": "code",
   "execution_count": 15,
   "metadata": {
    "id": "7jMCe7BNUqHH"
   },
   "outputs": [],
   "source": [
    "df['bath'] = df['bath'].astype(int)"
   ]
  },
  {
   "cell_type": "code",
   "execution_count": 16,
   "metadata": {},
   "outputs": [
    {
     "data": {
      "text/plain": [
       "array([  3,   4,   2,   6,   5,   1,   9,   0,   7,   8,  12,  13,  10,\n",
       "        11,  33,  24,  28,  14,  18,  20,  16,  15,  19,  17,  40,  21,\n",
       "        86,  31,  27,  42,  60,  22,  32,  99,  49,  29,  30,  23,  46,\n",
       "        36,  68, 123,  25,  47,  35,  38,  64,  48,  75])"
      ]
     },
     "execution_count": 16,
     "metadata": {},
     "output_type": "execute_result"
    }
   ],
   "source": [
    "df['bed'].unique()"
   ]
  },
  {
   "cell_type": "code",
   "execution_count": 17,
   "metadata": {},
   "outputs": [
    {
     "data": {
      "text/plain": [
       "array([  2,   1,   3,   5,   4,   7,   6,   0,   8,   9,  10,  12,  13,\n",
       "        35,  11,  16,  15,  18,  20,  14,  36,  25,  17,  19,  56,  42,\n",
       "        51,  28, 198,  22,  33,  27,  30,  29,  24,  46,  21, 123,  39,\n",
       "        43,  32,  45,  64])"
      ]
     },
     "execution_count": 17,
     "metadata": {},
     "output_type": "execute_result"
    }
   ],
   "source": [
    "df['bath'].unique()"
   ]
  },
  {
   "cell_type": "code",
   "execution_count": null,
   "metadata": {},
   "outputs": [],
   "source": []
  },
  {
   "cell_type": "code",
   "execution_count": null,
   "metadata": {},
   "outputs": [],
   "source": []
  },
  {
   "cell_type": "markdown",
   "metadata": {
    "id": "Vvx_jdqRSxA4"
   },
   "source": [
    "**changing zipcode column datatype from float to string**\n",
    "\n",
    "*   we dont neet this column in any calculation\n",
    "*   we want the model to understand its not an integer\n",
    "\n",
    "\n",
    "we dont need zipcode column in any calculation and we want the model to understand it is an address so we will change its datatype into string"
   ]
  },
  {
   "cell_type": "code",
   "execution_count": 18,
   "metadata": {
    "id": "UWOVuE58SJk5"
   },
   "outputs": [],
   "source": [
    "df['zip_code'] = df['zip_code'].astype(str)"
   ]
  },
  {
   "cell_type": "code",
   "execution_count": 19,
   "metadata": {
    "id": "9grP7pZcSqZX"
   },
   "outputs": [
    {
     "name": "stdout",
     "output_type": "stream",
     "text": [
      "<class 'pandas.core.frame.DataFrame'>\n",
      "RangeIndex: 1401066 entries, 0 to 1401065\n",
      "Data columns (total 10 columns):\n",
      " #   Column          Non-Null Count    Dtype  \n",
      "---  ------          --------------    -----  \n",
      " 0   status          1401066 non-null  object \n",
      " 1   bed             1401066 non-null  int32  \n",
      " 2   bath            1401066 non-null  int32  \n",
      " 3   acre_lot        1043599 non-null  float64\n",
      " 4   city            1400875 non-null  object \n",
      " 5   state           1401066 non-null  object \n",
      " 6   zip_code        1401066 non-null  object \n",
      " 7   house_size      950954 non-null   float64\n",
      " 8   prev_sold_date  714773 non-null   object \n",
      " 9   price           1400958 non-null  float64\n",
      "dtypes: float64(3), int32(2), object(5)\n",
      "memory usage: 96.2+ MB\n"
     ]
    }
   ],
   "source": [
    "df.info()"
   ]
  },
  {
   "cell_type": "markdown",
   "metadata": {
    "id": "qe5AiK1bUgD9"
   },
   "source": [
    "**Checking and dealing with nulls**"
   ]
  },
  {
   "cell_type": "code",
   "execution_count": 20,
   "metadata": {
    "id": "_aUbDw4yWQ5n"
   },
   "outputs": [],
   "source": [
    "df['ID'] = range(1, len(df) + 1)\n",
    "df = df[['ID'] + [col for col in df.columns if col != 'ID']]"
   ]
  },
  {
   "cell_type": "code",
   "execution_count": 21,
   "metadata": {
    "id": "sJlI_0c0UruH"
   },
   "outputs": [
    {
     "name": "stdout",
     "output_type": "stream",
     "text": [
      "Nulls  in ID: \n",
      "0\n",
      "\n",
      "Percentage of nulls  in ID: \n",
      "0.0\n",
      "\n",
      "Nulls  in status: \n",
      "0\n",
      "\n",
      "Percentage of nulls  in status: \n",
      "0.0\n",
      "\n",
      "Nulls  in bed: \n",
      "0\n",
      "\n",
      "Percentage of nulls  in bed: \n",
      "0.0\n",
      "\n",
      "Nulls  in bath: \n",
      "0\n",
      "\n",
      "Percentage of nulls  in bath: \n",
      "0.0\n",
      "\n",
      "Nulls  in acre_lot: \n",
      "357467\n",
      "\n",
      "Percentage of nulls  in acre_lot: \n",
      "25.513930107503857\n",
      "\n",
      "Nulls  in city: \n",
      "191\n",
      "\n",
      "Percentage of nulls  in city: \n",
      "0.013632476985381132\n",
      "\n",
      "Nulls  in state: \n",
      "0\n",
      "\n",
      "Percentage of nulls  in state: \n",
      "0.0\n",
      "\n",
      "Nulls  in zip_code: \n",
      "0\n",
      "\n",
      "Percentage of nulls  in zip_code: \n",
      "0.0\n",
      "\n",
      "Nulls  in house_size: \n",
      "450112\n",
      "\n",
      "Percentage of nulls  in house_size: \n",
      "32.126395187664244\n",
      "\n",
      "Nulls  in prev_sold_date: \n",
      "686293\n",
      "\n",
      "Percentage of nulls  in prev_sold_date: \n",
      "48.98363103522603\n",
      "\n",
      "Nulls  in price: \n",
      "108\n",
      "\n",
      "Percentage of nulls  in price: \n",
      "0.00770841630586996\n",
      "\n"
     ]
    }
   ],
   "source": [
    "Null_ID=[]\n",
    "for col in df:\n",
    "    nulls=df[col].isnull()\n",
    "    Null_ID.extend(df.loc[nulls, 'ID'].tolist())\n",
    "    print(f'Nulls  in {col}: \\n{nulls.sum()}\\n')\n",
    "    percentage=(nulls.sum()/len(df))*100\n",
    "    print(f'Percentage of nulls  in {col}: \\n{percentage}\\n')"
   ]
  },
  {
   "cell_type": "code",
   "execution_count": 22,
   "metadata": {
    "id": "Qk7h-W9PUxuH"
   },
   "outputs": [],
   "source": [
    "#filling the nulls by the mean of each  numerical column\n",
    "df['bed'] = df['bed'].replace(0,np. round(df['bed'][df['bed'] != 0].mean()))\n",
    "df['bath'] = df['bath'].replace(0,np.round( df['bath'][df['bath'] != 0].mean()))\n",
    "df['acre_lot'].fillna(df['acre_lot'].mean(), inplace=True)\n",
    "df['house_size'].fillna(df['house_size'].mean(), inplace=True)"
   ]
  },
  {
   "cell_type": "code",
   "execution_count": 23,
   "metadata": {
    "id": "n2X9GHDhVvmZ"
   },
   "outputs": [
    {
     "data": {
      "text/plain": [
       "ID                     0\n",
       "status                 0\n",
       "bed                    0\n",
       "bath                   0\n",
       "acre_lot               0\n",
       "city                 191\n",
       "state                  0\n",
       "zip_code               0\n",
       "house_size             0\n",
       "prev_sold_date    686293\n",
       "price                108\n",
       "dtype: int64"
      ]
     },
     "execution_count": 23,
     "metadata": {},
     "output_type": "execute_result"
    }
   ],
   "source": [
    "df.isnull().sum()"
   ]
  },
  {
   "cell_type": "code",
   "execution_count": 24,
   "metadata": {
    "id": "du5_EbCZVxoe"
   },
   "outputs": [],
   "source": [
    "#droping the previous sold date column as the nulls is almost 50%\n",
    "df = df.drop('prev_sold_date', axis=1)"
   ]
  },
  {
   "cell_type": "code",
   "execution_count": 25,
   "metadata": {
    "id": "0DAvx0TyV8oW"
   },
   "outputs": [],
   "source": [
    "#droping the nulls that in zip code , city and price as nulls are very little\n",
    "df=df.dropna(subset=['zip_code','city','price'])"
   ]
  },
  {
   "cell_type": "code",
   "execution_count": 26,
   "metadata": {
    "id": "6jmH-su0Wsho"
   },
   "outputs": [
    {
     "data": {
      "text/plain": [
       "ID            0\n",
       "status        0\n",
       "bed           0\n",
       "bath          0\n",
       "acre_lot      0\n",
       "city          0\n",
       "state         0\n",
       "zip_code      0\n",
       "house_size    0\n",
       "price         0\n",
       "dtype: int64"
      ]
     },
     "execution_count": 26,
     "metadata": {},
     "output_type": "execute_result"
    }
   ],
   "source": [
    "df.isnull().sum()"
   ]
  },
  {
   "cell_type": "markdown",
   "metadata": {
    "id": "b5dBC7-pWvMu"
   },
   "source": [
    "**Checking and dealing with outliers**"
   ]
  },
  {
   "cell_type": "code",
   "execution_count": 27,
   "metadata": {
    "id": "N8QQe8hLW5nK"
   },
   "outputs": [],
   "source": [
    "column=['bed','bath','acre_lot','house_size','price']"
   ]
  },
  {
   "cell_type": "code",
   "execution_count": 28,
   "metadata": {
    "id": "wR7sO5kNXNta"
   },
   "outputs": [
    {
     "data": {
      "image/png": "[encoded data removed]",
      "text/plain": [
       "<Figure size 640x480 with 1 Axes>"
      ]
     },
     "metadata": {},
     "output_type": "display_data"
    },
    {
     "data": {
      "image/png": "[encoded data removed]",
      "text/plain": [
       "<Figure size 640x480 with 1 Axes>"
      ]
     },
     "metadata": {},
     "output_type": "display_data"
    },
    {
     "data": {
      "image/png": "[encoded data removed]",
      "text/plain": [
       "<Figure size 640x480 with 1 Axes>"
      ]
     },
     "metadata": {},
     "output_type": "display_data"
    },
    {
     "data": {
      "image/png": "[encoded data removed]",
      "text/plain": [
       "<Figure size 640x480 with 1 Axes>"
      ]
     },
     "metadata": {},
     "output_type": "display_data"
    },
    {
     "data": {
      "image/png": "[encoded data removed]",
      "text/plain": [
       "<Figure size 640x480 with 1 Axes>"
      ]
     },
     "metadata": {},
     "output_type": "display_data"
    }
   ],
   "source": [
    "for col in column:\n",
    "  sns.boxplot(x=df[col])\n",
    "  plt.show()"
   ]
  },
  {
   "cell_type": "code",
   "execution_count": null,
   "metadata": {
    "id": "_zm_ecGeXQly"
   },
   "outputs": [
    {
     "data": {
      "image/png": "[encoded data removed]",
      "text/plain": [
       "<Figure size 640x480 with 1 Axes>"
      ]
     },
     "metadata": {},
     "output_type": "display_data"
    },
    {
     "data": {
      "image/png": "[encoded data removed]",
      "text/plain": [
       "<Figure size 640x480 with 1 Axes>"
      ]
     },
     "metadata": {},
     "output_type": "display_data"
    }
   ],
   "source": [
    "# Checking distribution of columns which have outliers\n",
    "for col in column:\n",
    "\n",
    "    sns.histplot(x = df[col], kde=True)\n",
    "    plt.show()"
   ]
  },
  {
   "cell_type": "code",
   "execution_count": null,
   "metadata": {
    "id": "i7tHE0DzXVrU"
   },
   "outputs": [],
   "source": [
    "# Fixing skewness using log transformation\n",
    "for col in column:\n",
    "\n",
    "    sns.boxenplot(x=np.log1p(df[col]))\n",
    "    plt.show()\n",
    "    sns.histplot(x=np.log1p(df[col]),kde=True)\n",
    "    plt.show()"
   ]
  },
  {
   "cell_type": "code",
   "execution_count": 31,
   "metadata": {
    "id": "EX1ytGezXWiy"
   },
   "outputs": [
    {
     "name": "stdout",
     "output_type": "stream",
     "text": [
      "bed\n",
      "123\n",
      "1\n",
      "bath\n",
      "198\n",
      "1\n",
      "arce_lot\n",
      "100000.0\n",
      "0.0\n",
      "house_size\n",
      "1450112.0\n",
      "4.0\n",
      "price\n",
      "875000000.0\n",
      "0.0\n"
     ]
    }
   ],
   "source": [
    "['bed','bath','acre_lot','house_size','price']\n",
    "\n",
    "print(\"bed\")\n",
    "Q1_bed,Q3_bed=df['bed'].quantile([0.25,0.75])\n",
    "\n",
    "# calculate max and min\n",
    "max_bed=max(df['bed'])\n",
    "min_bed=min(df['bed'])\n",
    "\n",
    "print(max_bed)\n",
    "print(min_bed)\n",
    "\n",
    "# print(max_bed-Q3_bed)\n",
    "# print(Q1_bed-min_bed)\n",
    "\n",
    "print(\"bath\")\n",
    "Q1_bath,Q3_bath=df['bath'].quantile([0.25,0.75])\n",
    "\n",
    "# calculate max and min\n",
    "max_bath=max(df['bath'])\n",
    "min_bath=min(df['bath'])\n",
    "\n",
    "print(max_bath)\n",
    "print(min_bath)\n",
    "# print(max_bath-Q3_bath)\n",
    "# print(Q1_bath-min_bath)\n",
    "\n",
    "print('arce_lot')\n",
    "Q1_arce,Q3_arce=df['acre_lot'].quantile([0.25,0.75])\n",
    "\n",
    "# calculate max and min\n",
    "max_arce=max(df['acre_lot'])\n",
    "min_arce=min(df['acre_lot'])\n",
    "\n",
    "print(max_arce)\n",
    "print(min_arce)\n",
    "\n",
    "# print(max_arce-Q3_arce)\n",
    "# print(Q1_arce-min_arce)\n",
    "\n",
    "print(\"house_size\")\n",
    "Q1_house,Q3_house=df['house_size'].quantile([0.25,0.75])\n",
    "\n",
    "# calculate max and min\n",
    "max_houseSize=max(df['house_size'])\n",
    "min_houseSize=min(df['house_size'])\n",
    "\n",
    "print(max_houseSize)\n",
    "print(min_houseSize)\n",
    "# print(max_houseSize-Q3_house)\n",
    "# print(Q1_house-min_houseSize)\n",
    "\n",
    "print('price')\n",
    "Q1_price,Q3_price=df['price'].quantile([0.25,0.75])\n",
    "\n",
    "# calculate max and min\n",
    "max_price = max(df['price'])\n",
    "min_price = min(df['price'])\n",
    "\n",
    "print(max_price)\n",
    "print(min_price)\n",
    "# print(max_price-Q3_price)\n",
    "# print(Q1_price-min_price)"
   ]
  },
  {
   "cell_type": "code",
   "execution_count": 32,
   "metadata": {},
   "outputs": [],
   "source": [
    "deleted = df[(df['price'] <= 1) ]['ID']\n"
   ]
  },
  {
   "cell_type": "code",
   "execution_count": 33,
   "metadata": {},
   "outputs": [],
   "source": [
    "indices_to_drop = deleted[deleted.isin(df.index)]\n",
    "df= df.drop(index=indices_to_drop)"
   ]
  },
  {
   "cell_type": "code",
   "execution_count": 34,
   "metadata": {},
   "outputs": [
    {
     "data": {
      "text/html": [
       "<div>\n",
       "<style scoped>\n",
       "    .dataframe tbody tr th:only-of-type {\n",
       "        vertical-align: middle;\n",
       "    }\n",
       "\n",
       "    .dataframe tbody tr th {\n",
       "        vertical-align: top;\n",
       "    }\n",
       "\n",
       "    .dataframe thead th {\n",
       "        text-align: right;\n",
       "    }\n",
       "</style>\n",
       "<table border=\"1\" class=\"dataframe\">\n",
       "  <thead>\n",
       "    <tr style=\"text-align: right;\">\n",
       "      <th></th>\n",
       "      <th>ID</th>\n",
       "      <th>status</th>\n",
       "      <th>bed</th>\n",
       "      <th>bath</th>\n",
       "      <th>acre_lot</th>\n",
       "      <th>city</th>\n",
       "      <th>state</th>\n",
       "      <th>zip_code</th>\n",
       "      <th>house_size</th>\n",
       "      <th>price</th>\n",
       "    </tr>\n",
       "  </thead>\n",
       "  <tbody>\n",
       "    <tr>\n",
       "      <th>871781</th>\n",
       "      <td>871782</td>\n",
       "      <td>for_sale</td>\n",
       "      <td>4</td>\n",
       "      <td>4</td>\n",
       "      <td>32.15</td>\n",
       "      <td>New York</td>\n",
       "      <td>New York</td>\n",
       "      <td>10016.0</td>\n",
       "      <td>2178.64</td>\n",
       "      <td>0.0</td>\n",
       "    </tr>\n",
       "    <tr>\n",
       "      <th>804278</th>\n",
       "      <td>804279</td>\n",
       "      <td>for_sale</td>\n",
       "      <td>4</td>\n",
       "      <td>4</td>\n",
       "      <td>32.15</td>\n",
       "      <td>New York</td>\n",
       "      <td>New York</td>\n",
       "      <td>10016.0</td>\n",
       "      <td>2178.64</td>\n",
       "      <td>0.0</td>\n",
       "    </tr>\n",
       "    <tr>\n",
       "      <th>760075</th>\n",
       "      <td>760076</td>\n",
       "      <td>for_sale</td>\n",
       "      <td>4</td>\n",
       "      <td>4</td>\n",
       "      <td>32.15</td>\n",
       "      <td>New York</td>\n",
       "      <td>New York</td>\n",
       "      <td>10016.0</td>\n",
       "      <td>2178.64</td>\n",
       "      <td>0.0</td>\n",
       "    </tr>\n",
       "    <tr>\n",
       "      <th>492655</th>\n",
       "      <td>492656</td>\n",
       "      <td>for_sale</td>\n",
       "      <td>4</td>\n",
       "      <td>4</td>\n",
       "      <td>32.15</td>\n",
       "      <td>New York</td>\n",
       "      <td>New York</td>\n",
       "      <td>10016.0</td>\n",
       "      <td>2178.64</td>\n",
       "      <td>0.0</td>\n",
       "    </tr>\n",
       "    <tr>\n",
       "      <th>828339</th>\n",
       "      <td>828340</td>\n",
       "      <td>for_sale</td>\n",
       "      <td>4</td>\n",
       "      <td>4</td>\n",
       "      <td>32.15</td>\n",
       "      <td>New York</td>\n",
       "      <td>New York</td>\n",
       "      <td>10016.0</td>\n",
       "      <td>2178.64</td>\n",
       "      <td>0.0</td>\n",
       "    </tr>\n",
       "  </tbody>\n",
       "</table>\n",
       "</div>"
      ],
      "text/plain": [
       "            ID    status  bed  bath  acre_lot      city     state zip_code  \\\n",
       "871781  871782  for_sale    4     4     32.15  New York  New York  10016.0   \n",
       "804278  804279  for_sale    4     4     32.15  New York  New York  10016.0   \n",
       "760075  760076  for_sale    4     4     32.15  New York  New York  10016.0   \n",
       "492655  492656  for_sale    4     4     32.15  New York  New York  10016.0   \n",
       "828339  828340  for_sale    4     4     32.15  New York  New York  10016.0   \n",
       "\n",
       "        house_size  price  \n",
       "871781     2178.64    0.0  \n",
       "804278     2178.64    0.0  \n",
       "760075     2178.64    0.0  \n",
       "492655     2178.64    0.0  \n",
       "828339     2178.64    0.0  "
      ]
     },
     "execution_count": 34,
     "metadata": {},
     "output_type": "execute_result"
    }
   ],
   "source": [
    "df=df.sort_values(by='price')\n",
    "df.head()"
   ]
  },
  {
   "cell_type": "code",
   "execution_count": 35,
   "metadata": {},
   "outputs": [],
   "source": [
    "deleted=df[df['acre_lot']== 0]['ID']"
   ]
  },
  {
   "cell_type": "code",
   "execution_count": 36,
   "metadata": {},
   "outputs": [],
   "source": [
    "indices_to_drop = deleted[deleted.isin(df.index)]\n",
    "df = df.drop(index=indices_to_drop)"
   ]
  },
  {
   "cell_type": "code",
   "execution_count": 37,
   "metadata": {},
   "outputs": [
    {
     "data": {
      "text/html": [
       "<div>\n",
       "<style scoped>\n",
       "    .dataframe tbody tr th:only-of-type {\n",
       "        vertical-align: middle;\n",
       "    }\n",
       "\n",
       "    .dataframe tbody tr th {\n",
       "        vertical-align: top;\n",
       "    }\n",
       "\n",
       "    .dataframe thead th {\n",
       "        text-align: right;\n",
       "    }\n",
       "</style>\n",
       "<table border=\"1\" class=\"dataframe\">\n",
       "  <thead>\n",
       "    <tr style=\"text-align: right;\">\n",
       "      <th></th>\n",
       "      <th>ID</th>\n",
       "      <th>status</th>\n",
       "      <th>bed</th>\n",
       "      <th>bath</th>\n",
       "      <th>acre_lot</th>\n",
       "      <th>city</th>\n",
       "      <th>state</th>\n",
       "      <th>zip_code</th>\n",
       "      <th>house_size</th>\n",
       "      <th>price</th>\n",
       "    </tr>\n",
       "  </thead>\n",
       "  <tbody>\n",
       "    <tr>\n",
       "      <th>96692</th>\n",
       "      <td>96693</td>\n",
       "      <td>for_sale</td>\n",
       "      <td>3</td>\n",
       "      <td>1</td>\n",
       "      <td>0.0</td>\n",
       "      <td>Warwick</td>\n",
       "      <td>Rhode Island</td>\n",
       "      <td>2888.0</td>\n",
       "      <td>1284.00</td>\n",
       "      <td>389900.0</td>\n",
       "    </tr>\n",
       "    <tr>\n",
       "      <th>801343</th>\n",
       "      <td>801344</td>\n",
       "      <td>for_sale</td>\n",
       "      <td>1</td>\n",
       "      <td>1</td>\n",
       "      <td>0.0</td>\n",
       "      <td>Weehawken</td>\n",
       "      <td>New Jersey</td>\n",
       "      <td>7086.0</td>\n",
       "      <td>2178.64</td>\n",
       "      <td>295000.0</td>\n",
       "    </tr>\n",
       "    <tr>\n",
       "      <th>863034</th>\n",
       "      <td>863035</td>\n",
       "      <td>for_sale</td>\n",
       "      <td>1</td>\n",
       "      <td>1</td>\n",
       "      <td>0.0</td>\n",
       "      <td>Weehawken</td>\n",
       "      <td>New Jersey</td>\n",
       "      <td>7086.0</td>\n",
       "      <td>2178.64</td>\n",
       "      <td>295000.0</td>\n",
       "    </tr>\n",
       "    <tr>\n",
       "      <th>1400168</th>\n",
       "      <td>1400169</td>\n",
       "      <td>for_sale</td>\n",
       "      <td>4</td>\n",
       "      <td>3</td>\n",
       "      <td>0.0</td>\n",
       "      <td>Orchard Park</td>\n",
       "      <td>New York</td>\n",
       "      <td>14127.0</td>\n",
       "      <td>2621.00</td>\n",
       "      <td>499900.0</td>\n",
       "    </tr>\n",
       "    <tr>\n",
       "      <th>1043030</th>\n",
       "      <td>1043031</td>\n",
       "      <td>for_sale</td>\n",
       "      <td>1</td>\n",
       "      <td>1</td>\n",
       "      <td>0.0</td>\n",
       "      <td>Weehawken</td>\n",
       "      <td>New Jersey</td>\n",
       "      <td>7086.0</td>\n",
       "      <td>2178.64</td>\n",
       "      <td>295000.0</td>\n",
       "    </tr>\n",
       "  </tbody>\n",
       "</table>\n",
       "</div>"
      ],
      "text/plain": [
       "              ID    status  bed  bath  acre_lot          city         state  \\\n",
       "96692      96693  for_sale    3     1       0.0       Warwick  Rhode Island   \n",
       "801343    801344  for_sale    1     1       0.0     Weehawken    New Jersey   \n",
       "863034    863035  for_sale    1     1       0.0     Weehawken    New Jersey   \n",
       "1400168  1400169  for_sale    4     3       0.0  Orchard Park      New York   \n",
       "1043030  1043031  for_sale    1     1       0.0     Weehawken    New Jersey   \n",
       "\n",
       "        zip_code  house_size     price  \n",
       "96692     2888.0     1284.00  389900.0  \n",
       "801343    7086.0     2178.64  295000.0  \n",
       "863034    7086.0     2178.64  295000.0  \n",
       "1400168  14127.0     2621.00  499900.0  \n",
       "1043030   7086.0     2178.64  295000.0  "
      ]
     },
     "execution_count": 37,
     "metadata": {},
     "output_type": "execute_result"
    }
   ],
   "source": [
    "df=df.sort_values(by='acre_lot')\n",
    "df.head()"
   ]
  },
  {
   "cell_type": "code",
   "execution_count": 38,
   "metadata": {},
   "outputs": [
    {
     "data": {
      "text/html": [
       "<div>\n",
       "<style scoped>\n",
       "    .dataframe tbody tr th:only-of-type {\n",
       "        vertical-align: middle;\n",
       "    }\n",
       "\n",
       "    .dataframe tbody tr th {\n",
       "        vertical-align: top;\n",
       "    }\n",
       "\n",
       "    .dataframe thead th {\n",
       "        text-align: right;\n",
       "    }\n",
       "</style>\n",
       "<table border=\"1\" class=\"dataframe\">\n",
       "  <thead>\n",
       "    <tr style=\"text-align: right;\">\n",
       "      <th></th>\n",
       "      <th>ID</th>\n",
       "      <th>status</th>\n",
       "      <th>bed</th>\n",
       "      <th>bath</th>\n",
       "      <th>acre_lot</th>\n",
       "      <th>city</th>\n",
       "      <th>state</th>\n",
       "      <th>zip_code</th>\n",
       "      <th>house_size</th>\n",
       "      <th>price</th>\n",
       "    </tr>\n",
       "  </thead>\n",
       "  <tbody>\n",
       "    <tr>\n",
       "      <th>0</th>\n",
       "      <td>1</td>\n",
       "      <td>for_sale</td>\n",
       "      <td>3</td>\n",
       "      <td>2</td>\n",
       "      <td>0.12</td>\n",
       "      <td>Adjuntas</td>\n",
       "      <td>Puerto Rico</td>\n",
       "      <td>601.0</td>\n",
       "      <td>920.00</td>\n",
       "      <td>105000.0</td>\n",
       "    </tr>\n",
       "    <tr>\n",
       "      <th>1</th>\n",
       "      <td>2</td>\n",
       "      <td>for_sale</td>\n",
       "      <td>4</td>\n",
       "      <td>2</td>\n",
       "      <td>0.08</td>\n",
       "      <td>Adjuntas</td>\n",
       "      <td>Puerto Rico</td>\n",
       "      <td>601.0</td>\n",
       "      <td>1527.00</td>\n",
       "      <td>80000.0</td>\n",
       "    </tr>\n",
       "    <tr>\n",
       "      <th>2</th>\n",
       "      <td>3</td>\n",
       "      <td>for_sale</td>\n",
       "      <td>2</td>\n",
       "      <td>1</td>\n",
       "      <td>0.15</td>\n",
       "      <td>Juana Diaz</td>\n",
       "      <td>Puerto Rico</td>\n",
       "      <td>795.0</td>\n",
       "      <td>748.00</td>\n",
       "      <td>67000.0</td>\n",
       "    </tr>\n",
       "    <tr>\n",
       "      <th>3</th>\n",
       "      <td>4</td>\n",
       "      <td>for_sale</td>\n",
       "      <td>4</td>\n",
       "      <td>2</td>\n",
       "      <td>0.10</td>\n",
       "      <td>Ponce</td>\n",
       "      <td>Puerto Rico</td>\n",
       "      <td>731.0</td>\n",
       "      <td>1800.00</td>\n",
       "      <td>145000.0</td>\n",
       "    </tr>\n",
       "    <tr>\n",
       "      <th>4</th>\n",
       "      <td>5</td>\n",
       "      <td>for_sale</td>\n",
       "      <td>6</td>\n",
       "      <td>2</td>\n",
       "      <td>0.05</td>\n",
       "      <td>Mayaguez</td>\n",
       "      <td>Puerto Rico</td>\n",
       "      <td>680.0</td>\n",
       "      <td>2178.64</td>\n",
       "      <td>65000.0</td>\n",
       "    </tr>\n",
       "  </tbody>\n",
       "</table>\n",
       "</div>"
      ],
      "text/plain": [
       "   ID    status  bed  bath  acre_lot        city        state zip_code  \\\n",
       "0   1  for_sale    3     2      0.12    Adjuntas  Puerto Rico    601.0   \n",
       "1   2  for_sale    4     2      0.08    Adjuntas  Puerto Rico    601.0   \n",
       "2   3  for_sale    2     1      0.15  Juana Diaz  Puerto Rico    795.0   \n",
       "3   4  for_sale    4     2      0.10       Ponce  Puerto Rico    731.0   \n",
       "4   5  for_sale    6     2      0.05    Mayaguez  Puerto Rico    680.0   \n",
       "\n",
       "   house_size     price  \n",
       "0      920.00  105000.0  \n",
       "1     1527.00   80000.0  \n",
       "2      748.00   67000.0  \n",
       "3     1800.00  145000.0  \n",
       "4     2178.64   65000.0  "
      ]
     },
     "execution_count": 38,
     "metadata": {},
     "output_type": "execute_result"
    }
   ],
   "source": [
    "df=df.sort_values(by='ID')\n",
    "df['ID']=range(1, len(df) + 1)\n",
    "df.head()"
   ]
  },
  {
   "cell_type": "code",
   "execution_count": 39,
   "metadata": {},
   "outputs": [],
   "source": [
    "df['acre_lot']*=4200"
   ]
  },
  {
   "cell_type": "code",
   "execution_count": 40,
   "metadata": {},
   "outputs": [
    {
     "name": "stdout",
     "output_type": "stream",
     "text": [
      "Outliers number in bed: \n",
      "35565\n",
      "\n",
      "Percentage of Outliers  in bed: \n",
      "2.540582165848975\n",
      "\n",
      "Outliers number in bath: \n",
      "87624\n",
      "\n",
      "Percentage of Outliers  in bath: \n",
      "6.259411547879955\n",
      "\n",
      "Outliers number in acre_lot: \n",
      "16075\n",
      "\n",
      "Percentage of Outliers  in acre_lot: \n",
      "1.1483159937022993\n",
      "\n",
      "Outliers number in house_size: \n",
      "120423\n",
      "\n",
      "Percentage of Outliers  in house_size: \n",
      "8.602404784423763\n",
      "\n",
      "Outliers number in price: \n",
      "127432\n",
      "\n",
      "Percentage of Outliers  in price: \n",
      "9.103091988147522\n",
      "\n"
     ]
    }
   ],
   "source": [
    "# To check outliers\n",
    "Outlier_ID=[]\n",
    "for col in column:\n",
    "    Q1 = df[col].quantile(0.25)\n",
    "    Q3 = df[col].quantile(0.75)\n",
    "    IQR = Q3 - Q1\n",
    "    outliers = ((df[col] < (Q1 - 1.5 * IQR)) | (df[col] > (Q3 + 1.5 * IQR)))\n",
    "    print(f'Outliers number in {col}: \\n{outliers.sum()}\\n')\n",
    "    percentage=(outliers.sum()/len(df))*100\n",
    "    print(f'Percentage of Outliers  in {col}: \\n{percentage}\\n')"
   ]
  },
  {
   "cell_type": "code",
   "execution_count": 41,
   "metadata": {},
   "outputs": [
    {
     "name": "stdout",
     "output_type": "stream",
     "text": [
      "Outliers number in bed: \n",
      "8726\n",
      "\n",
      "Percentage of Outliers  in bed: \n",
      "0.6233409244818827\n",
      "\n",
      "Outliers number in bath: \n",
      "25701\n",
      "\n",
      "Percentage of Outliers  in bath: \n",
      "1.8359483268518069\n",
      "\n",
      "Outliers number in acre_lot: \n",
      "8487\n",
      "\n",
      "Percentage of Outliers  in acre_lot: \n",
      "0.6062679837357022\n",
      "\n",
      "Outliers number in house_size: \n",
      "55939\n",
      "\n",
      "Percentage of Outliers  in house_size: \n",
      "3.9959967882869623\n",
      "\n",
      "Outliers number in price: \n",
      "73062\n",
      "\n",
      "Percentage of Outliers  in price: \n",
      "5.219176555637785\n",
      "\n"
     ]
    }
   ],
   "source": [
    "# To check extreme outliers\n",
    "Outlier_ID=[]\n",
    "for col in column:\n",
    "    Q1 = df[col].quantile(0.25)\n",
    "    Q3 = df[col].quantile(0.75)\n",
    "    IQR = Q3 - Q1\n",
    "    outliers = ((df[col] < (Q1 - 3 * IQR)) | (df[col] > (Q3 + 3 * IQR)))\n",
    "    print(f'Outliers number in {col}: \\n{outliers.sum()}\\n')\n",
    "    percentage=(outliers.sum()/len(df))*100\n",
    "    print(f'Percentage of Outliers  in {col}: \\n{percentage}\\n')"
   ]
  },
  {
   "cell_type": "code",
   "execution_count": 42,
   "metadata": {},
   "outputs": [],
   "source": [
    "\n",
    "def remove_outlier(col):\n",
    "\n",
    "    col_sorted = col.sort_values()  \n",
    "    Q1 = col_sorted.quantile(0.25)\n",
    "    Q3 = col_sorted.quantile(0.75)\n",
    "\n",
    "    IQR=Q3-Q1\n",
    "    lower_bound=Q1-(3*IQR)\n",
    "    upper_bound=Q3+(3*IQR)\n",
    "    return lower_bound,upper_bound\n",
    "\n"
   ]
  },
  {
   "cell_type": "code",
   "execution_count": 43,
   "metadata": {
    "id": "To4IGW10XZ4P"
   },
   "outputs": [
    {
     "name": "stdout",
     "output_type": "stream",
     "text": [
      "-4.0 10.0\n"
     ]
    },
    {
     "data": {
      "image/png": "[encoded data removed]",
      "text/plain": [
       "<Figure size 640x480 with 1 Axes>"
      ]
     },
     "metadata": {},
     "output_type": "display_data"
    },
    {
     "name": "stdout",
     "output_type": "stream",
     "text": [
      "-1.0 6.0\n"
     ]
    },
    {
     "data": {
      "image/png": "[encoded data removed]",
      "text/plain": [
       "<Figure size 640x480 with 1 Axes>"
      ]
     },
     "metadata": {},
     "output_type": "display_data"
    },
    {
     "name": "stdout",
     "output_type": "stream",
     "text": [
      "-402235.65058234544 537980.2007764606\n"
     ]
    },
    {
     "data": {
      "image/png": "[encoded data removed]",
      "text/plain": [
       "<Figure size 640x480 with 1 Axes>"
      ]
     },
     "metadata": {},
     "output_type": "display_data"
    },
    {
     "name": "stdout",
     "output_type": "stream",
     "text": [
      "-919.9276168983993 4502.570155864532\n"
     ]
    },
    {
     "data": {
      "image/png": "[encoded data removed]",
      "text/plain": [
       "<Figure size 640x480 with 1 Axes>"
      ]
     },
     "metadata": {},
     "output_type": "display_data"
    },
    {
     "name": "stdout",
     "output_type": "stream",
     "text": [
      "-1445000.0 2475000.0\n"
     ]
    },
    {
     "data": {
      "image/png": "[encoded data removed]",
      "text/plain": [
       "<Figure size 640x480 with 1 Axes>"
      ]
     },
     "metadata": {},
     "output_type": "display_data"
    }
   ],
   "source": [
    "\n",
    "for col in column :\n",
    "    lower_bound,upper_bound=remove_outlier(df[col])\n",
    "    \n",
    "    df[col]=np.where(df[col]<lower_bound,np.round(df[col].mean()),df[col])\n",
    "    df[col]=np.where(df[col]>upper_bound,np.round(df[col].mean()),df[col])\n",
    "    print(lower_bound,upper_bound)\n",
    "    sns.boxenplot(x=df[col])\n",
    "    plt.show()\n",
    "\n"
   ]
  },
  {
   "cell_type": "code",
   "execution_count": 44,
   "metadata": {
    "id": "Zf_k0tz0Xf-T"
   },
   "outputs": [
    {
     "data": {
      "image/png": "[encoded data removed]",
      "text/plain": [
       "<Figure size 640x480 with 1 Axes>"
      ]
     },
     "metadata": {},
     "output_type": "display_data"
    },
    {
     "data": {
      "image/png": "[encoded data removed]",
      "text/plain": [
       "<Figure size 640x480 with 1 Axes>"
      ]
     },
     "metadata": {},
     "output_type": "display_data"
    },
    {
     "data": {
      "image/png": "[encoded data removed]",
      "text/plain": [
       "<Figure size 640x480 with 1 Axes>"
      ]
     },
     "metadata": {},
     "output_type": "display_data"
    },
    {
     "data": {
      "image/png": "[encoded data removed]",
      "text/plain": [
       "<Figure size 640x480 with 1 Axes>"
      ]
     },
     "metadata": {},
     "output_type": "display_data"
    },
    {
     "data": {
      "image/png": "[encoded data removed]",
      "text/plain": [
       "<Figure size 640x480 with 1 Axes>"
      ]
     },
     "metadata": {},
     "output_type": "display_data"
    }
   ],
   "source": [
    "for col in column:\n",
    "  sns.boxplot(x=df[col])\n",
    "  plt.show()"
   ]
  },
  {
   "cell_type": "code",
   "execution_count": 46,
   "metadata": {
    "id": "EbP2hTcSaWLC"
   },
   "outputs": [],
   "source": [
    "#renaming our features\n",
    "df = df.rename(columns={'land size in acre': 'land size in meter','bed':'number of bedrooms','bath':'number of bathrooms'})"
   ]
  },
  {
   "cell_type": "code",
   "execution_count": 47,
   "metadata": {},
   "outputs": [
    {
     "data": {
      "text/html": [
       "<div>\n",
       "<style scoped>\n",
       "    .dataframe tbody tr th:only-of-type {\n",
       "        vertical-align: middle;\n",
       "    }\n",
       "\n",
       "    .dataframe tbody tr th {\n",
       "        vertical-align: top;\n",
       "    }\n",
       "\n",
       "    .dataframe thead th {\n",
       "        text-align: right;\n",
       "    }\n",
       "</style>\n",
       "<table border=\"1\" class=\"dataframe\">\n",
       "  <thead>\n",
       "    <tr style=\"text-align: right;\">\n",
       "      <th></th>\n",
       "      <th>ID</th>\n",
       "      <th>status</th>\n",
       "      <th>number of bedrooms</th>\n",
       "      <th>number of bathrooms</th>\n",
       "      <th>acre_lot</th>\n",
       "      <th>city</th>\n",
       "      <th>state</th>\n",
       "      <th>zip_code</th>\n",
       "      <th>house_size</th>\n",
       "      <th>price</th>\n",
       "    </tr>\n",
       "  </thead>\n",
       "  <tbody>\n",
       "    <tr>\n",
       "      <th>0</th>\n",
       "      <td>1</td>\n",
       "      <td>for_sale</td>\n",
       "      <td>3.0</td>\n",
       "      <td>2.0</td>\n",
       "      <td>504.0</td>\n",
       "      <td>Adjuntas</td>\n",
       "      <td>Puerto Rico</td>\n",
       "      <td>601.0</td>\n",
       "      <td>920.00</td>\n",
       "      <td>105000.0</td>\n",
       "    </tr>\n",
       "    <tr>\n",
       "      <th>1</th>\n",
       "      <td>2</td>\n",
       "      <td>for_sale</td>\n",
       "      <td>4.0</td>\n",
       "      <td>2.0</td>\n",
       "      <td>336.0</td>\n",
       "      <td>Adjuntas</td>\n",
       "      <td>Puerto Rico</td>\n",
       "      <td>601.0</td>\n",
       "      <td>1527.00</td>\n",
       "      <td>80000.0</td>\n",
       "    </tr>\n",
       "    <tr>\n",
       "      <th>2</th>\n",
       "      <td>3</td>\n",
       "      <td>for_sale</td>\n",
       "      <td>2.0</td>\n",
       "      <td>1.0</td>\n",
       "      <td>630.0</td>\n",
       "      <td>Juana Diaz</td>\n",
       "      <td>Puerto Rico</td>\n",
       "      <td>795.0</td>\n",
       "      <td>748.00</td>\n",
       "      <td>67000.0</td>\n",
       "    </tr>\n",
       "    <tr>\n",
       "      <th>3</th>\n",
       "      <td>4</td>\n",
       "      <td>for_sale</td>\n",
       "      <td>4.0</td>\n",
       "      <td>2.0</td>\n",
       "      <td>420.0</td>\n",
       "      <td>Ponce</td>\n",
       "      <td>Puerto Rico</td>\n",
       "      <td>731.0</td>\n",
       "      <td>1800.00</td>\n",
       "      <td>145000.0</td>\n",
       "    </tr>\n",
       "    <tr>\n",
       "      <th>4</th>\n",
       "      <td>5</td>\n",
       "      <td>for_sale</td>\n",
       "      <td>6.0</td>\n",
       "      <td>2.0</td>\n",
       "      <td>210.0</td>\n",
       "      <td>Mayaguez</td>\n",
       "      <td>Puerto Rico</td>\n",
       "      <td>680.0</td>\n",
       "      <td>2178.64</td>\n",
       "      <td>65000.0</td>\n",
       "    </tr>\n",
       "  </tbody>\n",
       "</table>\n",
       "</div>"
      ],
      "text/plain": [
       "   ID    status  number of bedrooms  number of bathrooms  acre_lot  \\\n",
       "0   1  for_sale                 3.0                  2.0     504.0   \n",
       "1   2  for_sale                 4.0                  2.0     336.0   \n",
       "2   3  for_sale                 2.0                  1.0     630.0   \n",
       "3   4  for_sale                 4.0                  2.0     420.0   \n",
       "4   5  for_sale                 6.0                  2.0     210.0   \n",
       "\n",
       "         city        state zip_code  house_size     price  \n",
       "0    Adjuntas  Puerto Rico    601.0      920.00  105000.0  \n",
       "1    Adjuntas  Puerto Rico    601.0     1527.00   80000.0  \n",
       "2  Juana Diaz  Puerto Rico    795.0      748.00   67000.0  \n",
       "3       Ponce  Puerto Rico    731.0     1800.00  145000.0  \n",
       "4    Mayaguez  Puerto Rico    680.0     2178.64   65000.0  "
      ]
     },
     "execution_count": 47,
     "metadata": {},
     "output_type": "execute_result"
    }
   ],
   "source": [
    "df.head()"
   ]
  },
  {
   "cell_type": "code",
   "execution_count": 49,
   "metadata": {},
   "outputs": [],
   "source": [
    "df.to_csv(\"USA_real_estate_analysis.csv\")"
   ]
  },
  {
   "cell_type": "markdown",
   "metadata": {},
   "source": [
    "# Credits:\n",
    "\n",
    "This notebook is created by [Connect X](https://www.linkedin.com/company/connectx23/)\n",
    "AI team.\n",
    "\n",
    "-------------------------------------------\n",
    "\n",
    "**Directed by:**\n",
    "\n",
    "AI team director [Ammar Thabet](https://www.linkedin.com/in/ammar-thabett/)\n",
    "\n",
    "**Team leader:**\n",
    "\n",
    "[Marina Atef](https://www.linkedin.com/in/marina-atef-936a09282/)\n",
    "\n",
    "**Team members:**\n",
    "\n",
    "-[Seif Hassan](https://eg.linkedin.com/in/seif-hassan-8689412b4)\n",
    "\n",
    "-[Sohier Khaled](https://www.linkedin.com/in/sohier-khaled-4a2489249?utm_source=share&utm_campaign=share_via&utm_content=profile&utm_medium=ios_app)\n",
    "\n",
    "-[Makarious Moussa](https://www.linkedin.com/in/makarious-mousa-54b517299?utm_source=share&utm_campaign=share_via&utm_content=profile&utm_medium=ios_app)\n",
    "\n",
    "-[Nour Hany](https://www.linkedin.com/in/nour-hany-ba83292b9?trk=contact-info)\n",
    "\n",
    "-[Sarah Ahmad](https://www.linkedin.com/in/sarahhahmed?utm_source=share&utm_campaign=share_via&utm_content=profile&utm_medium=ios_app)"
   ]
  },
  {
   "cell_type": "code",
   "execution_count": null,
   "metadata": {},
   "outputs": [],
   "source": []
  }
 ],
 "metadata": {
  "colab": {
   "provenance": []
  },
  "kernelspec": {
   "display_name": "Python 3 (ipykernel)",
   "language": "python",
   "name": "python3"
  },
  "language_info": {
   "codemirror_mode": {
    "name": "ipython",
    "version": 3
   },
   "file_extension": ".py",
   "mimetype": "text/x-python",
   "name": "python",
   "nbconvert_exporter": "python",
   "pygments_lexer": "ipython3",
   "version": "3.9.13"
  }
 },
 "nbformat": 4,
 "nbformat_minor": 1
}
