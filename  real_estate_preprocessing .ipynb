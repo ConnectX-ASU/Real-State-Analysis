{
 "cells": [
  {
   "cell_type": "markdown",
   "metadata": {
    "id": "ReGII9qSuJlQ"
   },
   "source": [
    "# Importing libraries & Reading the data"
   ]
  },
  {
   "cell_type": "code",
   "execution_count": 1,
   "metadata": {
    "id": "4TcdPtUUtt3S"
   },
   "outputs": [],
   "source": [
    "import pandas as pd\n",
    "import numpy as np\n",
    "import matplotlib.pyplot as plt\n",
    "import seaborn as sns\n",
    "import warnings\n",
    "from sklearn.cluster import KMeans\n",
    "from sklearn.cluster import DBSCAN\n",
    "# Ignore warnings\n",
    "warnings.filterwarnings('ignore')"
   ]
  },
  {
   "cell_type": "code",
   "execution_count": 2,
   "metadata": {
    "id": "CVm3MmV9Qr2s"
   },
   "outputs": [],
   "source": [
    "from decimal import Decimal, ROUND_HALF_UP"
   ]
  },
  {
   "cell_type": "code",
   "execution_count": 3,
   "metadata": {
    "id": "kzE50tmiRRXm"
   },
   "outputs": [],
   "source": [
    "import decimal\n",
    "\n",
    "precision = decimal.Decimal('0.01')"
   ]
  },
  {
   "cell_type": "code",
   "execution_count": 4,
   "metadata": {
    "id": "wOJkwSeiPzPT"
   },
   "outputs": [],
   "source": [
    "pd.set_option('display.precision', 2)"
   ]
  },
  {
   "cell_type": "code",
   "execution_count": 5,
   "metadata": {
    "colab": {
     "base_uri": "https://localhost:8080/",
     "height": 203
    },
    "id": "0hOM2FeOyOot",
    "outputId": "8ef524eb-742c-42e0-fcb2-14be19f27e4a"
   },
   "outputs": [],
   "source": [
    "\n",
    "df = pd.read_csv('realtor-data.zip.csv')"
   ]
  },
  {
   "cell_type": "code",
   "execution_count": 6,
   "metadata": {
    "id": "ajo_y2DHyWNj"
   },
   "outputs": [
    {
     "data": {
      "text/html": [
       "<div>\n",
       "<style scoped>\n",
       "    .dataframe tbody tr th:only-of-type {\n",
       "        vertical-align: middle;\n",
       "    }\n",
       "\n",
       "    .dataframe tbody tr th {\n",
       "        vertical-align: top;\n",
       "    }\n",
       "\n",
       "    .dataframe thead th {\n",
       "        text-align: right;\n",
       "    }\n",
       "</style>\n",
       "<table border=\"1\" class=\"dataframe\">\n",
       "  <thead>\n",
       "    <tr style=\"text-align: right;\">\n",
       "      <th></th>\n",
       "      <th>status</th>\n",
       "      <th>bed</th>\n",
       "      <th>bath</th>\n",
       "      <th>acre_lot</th>\n",
       "      <th>city</th>\n",
       "      <th>state</th>\n",
       "      <th>zip_code</th>\n",
       "      <th>house_size</th>\n",
       "      <th>prev_sold_date</th>\n",
       "      <th>price</th>\n",
       "    </tr>\n",
       "  </thead>\n",
       "  <tbody>\n",
       "    <tr>\n",
       "      <th>0</th>\n",
       "      <td>for_sale</td>\n",
       "      <td>3.0</td>\n",
       "      <td>2.0</td>\n",
       "      <td>0.12</td>\n",
       "      <td>Adjuntas</td>\n",
       "      <td>Puerto Rico</td>\n",
       "      <td>601.0</td>\n",
       "      <td>920.0</td>\n",
       "      <td>NaN</td>\n",
       "      <td>105000.0</td>\n",
       "    </tr>\n",
       "    <tr>\n",
       "      <th>1</th>\n",
       "      <td>for_sale</td>\n",
       "      <td>4.0</td>\n",
       "      <td>2.0</td>\n",
       "      <td>0.08</td>\n",
       "      <td>Adjuntas</td>\n",
       "      <td>Puerto Rico</td>\n",
       "      <td>601.0</td>\n",
       "      <td>1527.0</td>\n",
       "      <td>NaN</td>\n",
       "      <td>80000.0</td>\n",
       "    </tr>\n",
       "    <tr>\n",
       "      <th>2</th>\n",
       "      <td>for_sale</td>\n",
       "      <td>2.0</td>\n",
       "      <td>1.0</td>\n",
       "      <td>0.15</td>\n",
       "      <td>Juana Diaz</td>\n",
       "      <td>Puerto Rico</td>\n",
       "      <td>795.0</td>\n",
       "      <td>748.0</td>\n",
       "      <td>NaN</td>\n",
       "      <td>67000.0</td>\n",
       "    </tr>\n",
       "    <tr>\n",
       "      <th>3</th>\n",
       "      <td>for_sale</td>\n",
       "      <td>4.0</td>\n",
       "      <td>2.0</td>\n",
       "      <td>0.10</td>\n",
       "      <td>Ponce</td>\n",
       "      <td>Puerto Rico</td>\n",
       "      <td>731.0</td>\n",
       "      <td>1800.0</td>\n",
       "      <td>NaN</td>\n",
       "      <td>145000.0</td>\n",
       "    </tr>\n",
       "    <tr>\n",
       "      <th>4</th>\n",
       "      <td>for_sale</td>\n",
       "      <td>6.0</td>\n",
       "      <td>2.0</td>\n",
       "      <td>0.05</td>\n",
       "      <td>Mayaguez</td>\n",
       "      <td>Puerto Rico</td>\n",
       "      <td>680.0</td>\n",
       "      <td>NaN</td>\n",
       "      <td>NaN</td>\n",
       "      <td>65000.0</td>\n",
       "    </tr>\n",
       "    <tr>\n",
       "      <th>5</th>\n",
       "      <td>for_sale</td>\n",
       "      <td>4.0</td>\n",
       "      <td>3.0</td>\n",
       "      <td>0.46</td>\n",
       "      <td>San Sebastian</td>\n",
       "      <td>Puerto Rico</td>\n",
       "      <td>612.0</td>\n",
       "      <td>2520.0</td>\n",
       "      <td>NaN</td>\n",
       "      <td>179000.0</td>\n",
       "    </tr>\n",
       "    <tr>\n",
       "      <th>6</th>\n",
       "      <td>for_sale</td>\n",
       "      <td>3.0</td>\n",
       "      <td>1.0</td>\n",
       "      <td>0.20</td>\n",
       "      <td>Ciales</td>\n",
       "      <td>Puerto Rico</td>\n",
       "      <td>639.0</td>\n",
       "      <td>2040.0</td>\n",
       "      <td>NaN</td>\n",
       "      <td>50000.0</td>\n",
       "    </tr>\n",
       "    <tr>\n",
       "      <th>7</th>\n",
       "      <td>for_sale</td>\n",
       "      <td>3.0</td>\n",
       "      <td>2.0</td>\n",
       "      <td>0.08</td>\n",
       "      <td>Ponce</td>\n",
       "      <td>Puerto Rico</td>\n",
       "      <td>731.0</td>\n",
       "      <td>1050.0</td>\n",
       "      <td>NaN</td>\n",
       "      <td>71600.0</td>\n",
       "    </tr>\n",
       "    <tr>\n",
       "      <th>8</th>\n",
       "      <td>for_sale</td>\n",
       "      <td>2.0</td>\n",
       "      <td>1.0</td>\n",
       "      <td>0.09</td>\n",
       "      <td>Ponce</td>\n",
       "      <td>Puerto Rico</td>\n",
       "      <td>730.0</td>\n",
       "      <td>1092.0</td>\n",
       "      <td>NaN</td>\n",
       "      <td>100000.0</td>\n",
       "    </tr>\n",
       "    <tr>\n",
       "      <th>9</th>\n",
       "      <td>for_sale</td>\n",
       "      <td>5.0</td>\n",
       "      <td>3.0</td>\n",
       "      <td>7.46</td>\n",
       "      <td>Las Marias</td>\n",
       "      <td>Puerto Rico</td>\n",
       "      <td>670.0</td>\n",
       "      <td>5403.0</td>\n",
       "      <td>NaN</td>\n",
       "      <td>300000.0</td>\n",
       "    </tr>\n",
       "    <tr>\n",
       "      <th>10</th>\n",
       "      <td>for_sale</td>\n",
       "      <td>3.0</td>\n",
       "      <td>2.0</td>\n",
       "      <td>13.39</td>\n",
       "      <td>Isabela</td>\n",
       "      <td>Puerto Rico</td>\n",
       "      <td>662.0</td>\n",
       "      <td>1106.0</td>\n",
       "      <td>NaN</td>\n",
       "      <td>89000.0</td>\n",
       "    </tr>\n",
       "    <tr>\n",
       "      <th>11</th>\n",
       "      <td>for_sale</td>\n",
       "      <td>3.0</td>\n",
       "      <td>2.0</td>\n",
       "      <td>0.08</td>\n",
       "      <td>Juana Diaz</td>\n",
       "      <td>Puerto Rico</td>\n",
       "      <td>795.0</td>\n",
       "      <td>1045.0</td>\n",
       "      <td>NaN</td>\n",
       "      <td>150000.0</td>\n",
       "    </tr>\n",
       "    <tr>\n",
       "      <th>12</th>\n",
       "      <td>for_sale</td>\n",
       "      <td>3.0</td>\n",
       "      <td>2.0</td>\n",
       "      <td>0.10</td>\n",
       "      <td>Lares</td>\n",
       "      <td>Puerto Rico</td>\n",
       "      <td>669.0</td>\n",
       "      <td>4161.0</td>\n",
       "      <td>NaN</td>\n",
       "      <td>155000.0</td>\n",
       "    </tr>\n",
       "    <tr>\n",
       "      <th>13</th>\n",
       "      <td>for_sale</td>\n",
       "      <td>5.0</td>\n",
       "      <td>2.0</td>\n",
       "      <td>0.12</td>\n",
       "      <td>Utuado</td>\n",
       "      <td>Puerto Rico</td>\n",
       "      <td>641.0</td>\n",
       "      <td>1620.0</td>\n",
       "      <td>NaN</td>\n",
       "      <td>79000.0</td>\n",
       "    </tr>\n",
       "    <tr>\n",
       "      <th>14</th>\n",
       "      <td>for_sale</td>\n",
       "      <td>5.0</td>\n",
       "      <td>5.0</td>\n",
       "      <td>0.74</td>\n",
       "      <td>Ponce</td>\n",
       "      <td>Puerto Rico</td>\n",
       "      <td>731.0</td>\n",
       "      <td>2677.0</td>\n",
       "      <td>NaN</td>\n",
       "      <td>649000.0</td>\n",
       "    </tr>\n",
       "    <tr>\n",
       "      <th>15</th>\n",
       "      <td>for_sale</td>\n",
       "      <td>3.0</td>\n",
       "      <td>2.0</td>\n",
       "      <td>0.08</td>\n",
       "      <td>Yauco</td>\n",
       "      <td>Puerto Rico</td>\n",
       "      <td>698.0</td>\n",
       "      <td>1100.0</td>\n",
       "      <td>NaN</td>\n",
       "      <td>120000.0</td>\n",
       "    </tr>\n",
       "    <tr>\n",
       "      <th>16</th>\n",
       "      <td>for_sale</td>\n",
       "      <td>4.0</td>\n",
       "      <td>4.0</td>\n",
       "      <td>0.22</td>\n",
       "      <td>Mayaguez</td>\n",
       "      <td>Puerto Rico</td>\n",
       "      <td>680.0</td>\n",
       "      <td>3450.0</td>\n",
       "      <td>NaN</td>\n",
       "      <td>235000.0</td>\n",
       "    </tr>\n",
       "    <tr>\n",
       "      <th>17</th>\n",
       "      <td>for_sale</td>\n",
       "      <td>3.0</td>\n",
       "      <td>2.0</td>\n",
       "      <td>0.08</td>\n",
       "      <td>Ponce</td>\n",
       "      <td>Puerto Rico</td>\n",
       "      <td>728.0</td>\n",
       "      <td>1500.0</td>\n",
       "      <td>NaN</td>\n",
       "      <td>105000.0</td>\n",
       "    </tr>\n",
       "    <tr>\n",
       "      <th>18</th>\n",
       "      <td>for_sale</td>\n",
       "      <td>3.0</td>\n",
       "      <td>2.0</td>\n",
       "      <td>3.88</td>\n",
       "      <td>San Sebastian</td>\n",
       "      <td>Puerto Rico</td>\n",
       "      <td>685.0</td>\n",
       "      <td>4000.0</td>\n",
       "      <td>NaN</td>\n",
       "      <td>575000.0</td>\n",
       "    </tr>\n",
       "    <tr>\n",
       "      <th>19</th>\n",
       "      <td>for_sale</td>\n",
       "      <td>6.0</td>\n",
       "      <td>3.0</td>\n",
       "      <td>0.25</td>\n",
       "      <td>Anasco</td>\n",
       "      <td>Puerto Rico</td>\n",
       "      <td>610.0</td>\n",
       "      <td>1230.0</td>\n",
       "      <td>NaN</td>\n",
       "      <td>140000.0</td>\n",
       "    </tr>\n",
       "  </tbody>\n",
       "</table>\n",
       "</div>"
      ],
      "text/plain": [
       "      status  bed  bath  acre_lot           city        state  zip_code  \\\n",
       "0   for_sale  3.0   2.0      0.12       Adjuntas  Puerto Rico     601.0   \n",
       "1   for_sale  4.0   2.0      0.08       Adjuntas  Puerto Rico     601.0   \n",
       "2   for_sale  2.0   1.0      0.15     Juana Diaz  Puerto Rico     795.0   \n",
       "3   for_sale  4.0   2.0      0.10          Ponce  Puerto Rico     731.0   \n",
       "4   for_sale  6.0   2.0      0.05       Mayaguez  Puerto Rico     680.0   \n",
       "5   for_sale  4.0   3.0      0.46  San Sebastian  Puerto Rico     612.0   \n",
       "6   for_sale  3.0   1.0      0.20         Ciales  Puerto Rico     639.0   \n",
       "7   for_sale  3.0   2.0      0.08          Ponce  Puerto Rico     731.0   \n",
       "8   for_sale  2.0   1.0      0.09          Ponce  Puerto Rico     730.0   \n",
       "9   for_sale  5.0   3.0      7.46     Las Marias  Puerto Rico     670.0   \n",
       "10  for_sale  3.0   2.0     13.39        Isabela  Puerto Rico     662.0   \n",
       "11  for_sale  3.0   2.0      0.08     Juana Diaz  Puerto Rico     795.0   \n",
       "12  for_sale  3.0   2.0      0.10          Lares  Puerto Rico     669.0   \n",
       "13  for_sale  5.0   2.0      0.12         Utuado  Puerto Rico     641.0   \n",
       "14  for_sale  5.0   5.0      0.74          Ponce  Puerto Rico     731.0   \n",
       "15  for_sale  3.0   2.0      0.08          Yauco  Puerto Rico     698.0   \n",
       "16  for_sale  4.0   4.0      0.22       Mayaguez  Puerto Rico     680.0   \n",
       "17  for_sale  3.0   2.0      0.08          Ponce  Puerto Rico     728.0   \n",
       "18  for_sale  3.0   2.0      3.88  San Sebastian  Puerto Rico     685.0   \n",
       "19  for_sale  6.0   3.0      0.25         Anasco  Puerto Rico     610.0   \n",
       "\n",
       "    house_size prev_sold_date     price  \n",
       "0        920.0            NaN  105000.0  \n",
       "1       1527.0            NaN   80000.0  \n",
       "2        748.0            NaN   67000.0  \n",
       "3       1800.0            NaN  145000.0  \n",
       "4          NaN            NaN   65000.0  \n",
       "5       2520.0            NaN  179000.0  \n",
       "6       2040.0            NaN   50000.0  \n",
       "7       1050.0            NaN   71600.0  \n",
       "8       1092.0            NaN  100000.0  \n",
       "9       5403.0            NaN  300000.0  \n",
       "10      1106.0            NaN   89000.0  \n",
       "11      1045.0            NaN  150000.0  \n",
       "12      4161.0            NaN  155000.0  \n",
       "13      1620.0            NaN   79000.0  \n",
       "14      2677.0            NaN  649000.0  \n",
       "15      1100.0            NaN  120000.0  \n",
       "16      3450.0            NaN  235000.0  \n",
       "17      1500.0            NaN  105000.0  \n",
       "18      4000.0            NaN  575000.0  \n",
       "19      1230.0            NaN  140000.0  "
      ]
     },
     "execution_count": 6,
     "metadata": {},
     "output_type": "execute_result"
    }
   ],
   "source": [
    "df.head(20)"
   ]
  },
  {
   "cell_type": "code",
   "execution_count": 7,
   "metadata": {},
   "outputs": [
    {
     "data": {
      "text/html": [
       "<div>\n",
       "<style scoped>\n",
       "    .dataframe tbody tr th:only-of-type {\n",
       "        vertical-align: middle;\n",
       "    }\n",
       "\n",
       "    .dataframe tbody tr th {\n",
       "        vertical-align: top;\n",
       "    }\n",
       "\n",
       "    .dataframe thead th {\n",
       "        text-align: right;\n",
       "    }\n",
       "</style>\n",
       "<table border=\"1\" class=\"dataframe\">\n",
       "  <thead>\n",
       "    <tr style=\"text-align: right;\">\n",
       "      <th></th>\n",
       "      <th>status</th>\n",
       "      <th>bed</th>\n",
       "      <th>bath</th>\n",
       "      <th>acre_lot</th>\n",
       "      <th>city</th>\n",
       "      <th>state</th>\n",
       "      <th>zip_code</th>\n",
       "      <th>house_size</th>\n",
       "      <th>prev_sold_date</th>\n",
       "      <th>price</th>\n",
       "    </tr>\n",
       "  </thead>\n",
       "  <tbody>\n",
       "    <tr>\n",
       "      <th>1252714</th>\n",
       "      <td>for_sale</td>\n",
       "      <td>4.0</td>\n",
       "      <td>3.0</td>\n",
       "      <td>0.18</td>\n",
       "      <td>Kingston</td>\n",
       "      <td>New York</td>\n",
       "      <td>12401.0</td>\n",
       "      <td>1167.0</td>\n",
       "      <td>NaN</td>\n",
       "      <td>2.90e+05</td>\n",
       "    </tr>\n",
       "    <tr>\n",
       "      <th>661198</th>\n",
       "      <td>for_sale</td>\n",
       "      <td>2.0</td>\n",
       "      <td>2.0</td>\n",
       "      <td>NaN</td>\n",
       "      <td>Philadelphia</td>\n",
       "      <td>Pennsylvania</td>\n",
       "      <td>19146.0</td>\n",
       "      <td>660.0</td>\n",
       "      <td>2007-06-23</td>\n",
       "      <td>2.75e+05</td>\n",
       "    </tr>\n",
       "    <tr>\n",
       "      <th>883663</th>\n",
       "      <td>for_sale</td>\n",
       "      <td>NaN</td>\n",
       "      <td>1.0</td>\n",
       "      <td>NaN</td>\n",
       "      <td>New York</td>\n",
       "      <td>New York</td>\n",
       "      <td>10005.0</td>\n",
       "      <td>510.0</td>\n",
       "      <td>NaN</td>\n",
       "      <td>5.40e+05</td>\n",
       "    </tr>\n",
       "    <tr>\n",
       "      <th>968573</th>\n",
       "      <td>for_sale</td>\n",
       "      <td>6.0</td>\n",
       "      <td>5.0</td>\n",
       "      <td>NaN</td>\n",
       "      <td>Monsey</td>\n",
       "      <td>New York</td>\n",
       "      <td>10952.0</td>\n",
       "      <td>5384.0</td>\n",
       "      <td>NaN</td>\n",
       "      <td>1.80e+06</td>\n",
       "    </tr>\n",
       "    <tr>\n",
       "      <th>46921</th>\n",
       "      <td>for_sale</td>\n",
       "      <td>NaN</td>\n",
       "      <td>NaN</td>\n",
       "      <td>0.99</td>\n",
       "      <td>Somers</td>\n",
       "      <td>Connecticut</td>\n",
       "      <td>6071.0</td>\n",
       "      <td>NaN</td>\n",
       "      <td>NaN</td>\n",
       "      <td>1.25e+05</td>\n",
       "    </tr>\n",
       "    <tr>\n",
       "      <th>363628</th>\n",
       "      <td>for_sale</td>\n",
       "      <td>NaN</td>\n",
       "      <td>NaN</td>\n",
       "      <td>11.40</td>\n",
       "      <td>Randolph</td>\n",
       "      <td>Vermont</td>\n",
       "      <td>5060.0</td>\n",
       "      <td>NaN</td>\n",
       "      <td>NaN</td>\n",
       "      <td>1.40e+05</td>\n",
       "    </tr>\n",
       "    <tr>\n",
       "      <th>516669</th>\n",
       "      <td>for_sale</td>\n",
       "      <td>4.0</td>\n",
       "      <td>3.0</td>\n",
       "      <td>0.97</td>\n",
       "      <td>Rockaway</td>\n",
       "      <td>New Jersey</td>\n",
       "      <td>7866.0</td>\n",
       "      <td>4090.0</td>\n",
       "      <td>1995-08-15</td>\n",
       "      <td>6.85e+05</td>\n",
       "    </tr>\n",
       "    <tr>\n",
       "      <th>20395</th>\n",
       "      <td>for_sale</td>\n",
       "      <td>3.0</td>\n",
       "      <td>2.0</td>\n",
       "      <td>0.09</td>\n",
       "      <td>Catano</td>\n",
       "      <td>Puerto Rico</td>\n",
       "      <td>962.0</td>\n",
       "      <td>1250.0</td>\n",
       "      <td>NaN</td>\n",
       "      <td>5.50e+04</td>\n",
       "    </tr>\n",
       "    <tr>\n",
       "      <th>1070170</th>\n",
       "      <td>for_sale</td>\n",
       "      <td>3.0</td>\n",
       "      <td>2.0</td>\n",
       "      <td>0.10</td>\n",
       "      <td>Lynbrook</td>\n",
       "      <td>New York</td>\n",
       "      <td>11563.0</td>\n",
       "      <td>NaN</td>\n",
       "      <td>2014-09-08</td>\n",
       "      <td>6.60e+05</td>\n",
       "    </tr>\n",
       "    <tr>\n",
       "      <th>471828</th>\n",
       "      <td>for_sale</td>\n",
       "      <td>9.0</td>\n",
       "      <td>3.0</td>\n",
       "      <td>0.07</td>\n",
       "      <td>Newark</td>\n",
       "      <td>New Jersey</td>\n",
       "      <td>7107.0</td>\n",
       "      <td>3600.0</td>\n",
       "      <td>2019-01-15</td>\n",
       "      <td>5.68e+05</td>\n",
       "    </tr>\n",
       "    <tr>\n",
       "      <th>1250009</th>\n",
       "      <td>for_sale</td>\n",
       "      <td>3.0</td>\n",
       "      <td>2.0</td>\n",
       "      <td>0.30</td>\n",
       "      <td>Beacon</td>\n",
       "      <td>New York</td>\n",
       "      <td>12508.0</td>\n",
       "      <td>1540.0</td>\n",
       "      <td>2020-11-10</td>\n",
       "      <td>5.85e+05</td>\n",
       "    </tr>\n",
       "    <tr>\n",
       "      <th>112406</th>\n",
       "      <td>for_sale</td>\n",
       "      <td>3.0</td>\n",
       "      <td>3.0</td>\n",
       "      <td>0.28</td>\n",
       "      <td>Natick</td>\n",
       "      <td>Massachusetts</td>\n",
       "      <td>1760.0</td>\n",
       "      <td>1706.0</td>\n",
       "      <td>2004-06-30</td>\n",
       "      <td>6.80e+05</td>\n",
       "    </tr>\n",
       "    <tr>\n",
       "      <th>236006</th>\n",
       "      <td>for_sale</td>\n",
       "      <td>2.0</td>\n",
       "      <td>2.0</td>\n",
       "      <td>0.09</td>\n",
       "      <td>Warren</td>\n",
       "      <td>Rhode Island</td>\n",
       "      <td>2885.0</td>\n",
       "      <td>1308.0</td>\n",
       "      <td>NaN</td>\n",
       "      <td>3.80e+05</td>\n",
       "    </tr>\n",
       "    <tr>\n",
       "      <th>264456</th>\n",
       "      <td>for_sale</td>\n",
       "      <td>3.0</td>\n",
       "      <td>3.0</td>\n",
       "      <td>1.33</td>\n",
       "      <td>Washington</td>\n",
       "      <td>New Hampshire</td>\n",
       "      <td>3280.0</td>\n",
       "      <td>2386.0</td>\n",
       "      <td>NaN</td>\n",
       "      <td>8.80e+05</td>\n",
       "    </tr>\n",
       "    <tr>\n",
       "      <th>307963</th>\n",
       "      <td>for_sale</td>\n",
       "      <td>7.0</td>\n",
       "      <td>3.0</td>\n",
       "      <td>3.71</td>\n",
       "      <td>Sabattus</td>\n",
       "      <td>Maine</td>\n",
       "      <td>4280.0</td>\n",
       "      <td>3295.0</td>\n",
       "      <td>NaN</td>\n",
       "      <td>4.50e+05</td>\n",
       "    </tr>\n",
       "    <tr>\n",
       "      <th>1296776</th>\n",
       "      <td>for_sale</td>\n",
       "      <td>NaN</td>\n",
       "      <td>NaN</td>\n",
       "      <td>0.55</td>\n",
       "      <td>Schroon Lake</td>\n",
       "      <td>New York</td>\n",
       "      <td>12870.0</td>\n",
       "      <td>NaN</td>\n",
       "      <td>NaN</td>\n",
       "      <td>1.99e+05</td>\n",
       "    </tr>\n",
       "    <tr>\n",
       "      <th>698024</th>\n",
       "      <td>for_sale</td>\n",
       "      <td>7.0</td>\n",
       "      <td>7.0</td>\n",
       "      <td>4.39</td>\n",
       "      <td>Hopewell</td>\n",
       "      <td>New Jersey</td>\n",
       "      <td>8525.0</td>\n",
       "      <td>NaN</td>\n",
       "      <td>2009-11-05</td>\n",
       "      <td>5.00e+06</td>\n",
       "    </tr>\n",
       "    <tr>\n",
       "      <th>1091410</th>\n",
       "      <td>for_sale</td>\n",
       "      <td>2.0</td>\n",
       "      <td>1.0</td>\n",
       "      <td>0.14</td>\n",
       "      <td>Great Neck</td>\n",
       "      <td>New York</td>\n",
       "      <td>11020.0</td>\n",
       "      <td>1300.0</td>\n",
       "      <td>2014-03-07</td>\n",
       "      <td>7.15e+05</td>\n",
       "    </tr>\n",
       "    <tr>\n",
       "      <th>874915</th>\n",
       "      <td>for_sale</td>\n",
       "      <td>NaN</td>\n",
       "      <td>1.0</td>\n",
       "      <td>NaN</td>\n",
       "      <td>New York</td>\n",
       "      <td>New York</td>\n",
       "      <td>10017.0</td>\n",
       "      <td>NaN</td>\n",
       "      <td>2005-07-07</td>\n",
       "      <td>4.25e+05</td>\n",
       "    </tr>\n",
       "    <tr>\n",
       "      <th>44754</th>\n",
       "      <td>for_sale</td>\n",
       "      <td>NaN</td>\n",
       "      <td>NaN</td>\n",
       "      <td>1.00</td>\n",
       "      <td>Belchertown</td>\n",
       "      <td>Massachusetts</td>\n",
       "      <td>1007.0</td>\n",
       "      <td>NaN</td>\n",
       "      <td>NaN</td>\n",
       "      <td>1.20e+05</td>\n",
       "    </tr>\n",
       "  </tbody>\n",
       "</table>\n",
       "</div>"
      ],
      "text/plain": [
       "           status  bed  bath  acre_lot          city          state  zip_code  \\\n",
       "1252714  for_sale  4.0   3.0      0.18      Kingston       New York   12401.0   \n",
       "661198   for_sale  2.0   2.0       NaN  Philadelphia   Pennsylvania   19146.0   \n",
       "883663   for_sale  NaN   1.0       NaN      New York       New York   10005.0   \n",
       "968573   for_sale  6.0   5.0       NaN        Monsey       New York   10952.0   \n",
       "46921    for_sale  NaN   NaN      0.99        Somers    Connecticut    6071.0   \n",
       "363628   for_sale  NaN   NaN     11.40      Randolph        Vermont    5060.0   \n",
       "516669   for_sale  4.0   3.0      0.97      Rockaway     New Jersey    7866.0   \n",
       "20395    for_sale  3.0   2.0      0.09        Catano    Puerto Rico     962.0   \n",
       "1070170  for_sale  3.0   2.0      0.10      Lynbrook       New York   11563.0   \n",
       "471828   for_sale  9.0   3.0      0.07        Newark     New Jersey    7107.0   \n",
       "1250009  for_sale  3.0   2.0      0.30        Beacon       New York   12508.0   \n",
       "112406   for_sale  3.0   3.0      0.28        Natick  Massachusetts    1760.0   \n",
       "236006   for_sale  2.0   2.0      0.09        Warren   Rhode Island    2885.0   \n",
       "264456   for_sale  3.0   3.0      1.33    Washington  New Hampshire    3280.0   \n",
       "307963   for_sale  7.0   3.0      3.71      Sabattus          Maine    4280.0   \n",
       "1296776  for_sale  NaN   NaN      0.55  Schroon Lake       New York   12870.0   \n",
       "698024   for_sale  7.0   7.0      4.39      Hopewell     New Jersey    8525.0   \n",
       "1091410  for_sale  2.0   1.0      0.14    Great Neck       New York   11020.0   \n",
       "874915   for_sale  NaN   1.0       NaN      New York       New York   10017.0   \n",
       "44754    for_sale  NaN   NaN      1.00   Belchertown  Massachusetts    1007.0   \n",
       "\n",
       "         house_size prev_sold_date     price  \n",
       "1252714      1167.0            NaN  2.90e+05  \n",
       "661198        660.0     2007-06-23  2.75e+05  \n",
       "883663        510.0            NaN  5.40e+05  \n",
       "968573       5384.0            NaN  1.80e+06  \n",
       "46921           NaN            NaN  1.25e+05  \n",
       "363628          NaN            NaN  1.40e+05  \n",
       "516669       4090.0     1995-08-15  6.85e+05  \n",
       "20395        1250.0            NaN  5.50e+04  \n",
       "1070170         NaN     2014-09-08  6.60e+05  \n",
       "471828       3600.0     2019-01-15  5.68e+05  \n",
       "1250009      1540.0     2020-11-10  5.85e+05  \n",
       "112406       1706.0     2004-06-30  6.80e+05  \n",
       "236006       1308.0            NaN  3.80e+05  \n",
       "264456       2386.0            NaN  8.80e+05  \n",
       "307963       3295.0            NaN  4.50e+05  \n",
       "1296776         NaN            NaN  1.99e+05  \n",
       "698024          NaN     2009-11-05  5.00e+06  \n",
       "1091410      1300.0     2014-03-07  7.15e+05  \n",
       "874915          NaN     2005-07-07  4.25e+05  \n",
       "44754           NaN            NaN  1.20e+05  "
      ]
     },
     "execution_count": 7,
     "metadata": {},
     "output_type": "execute_result"
    }
   ],
   "source": [
    "df.sample(20)"
   ]
  },
  {
   "cell_type": "markdown",
   "metadata": {
    "id": "pq_JapVMYxA7"
   },
   "source": [
    "**Data Description:**\n",
    "- **Status**: (for_sale/ready to build)\n",
    "- **Bed**: (number of bedrooms)\n",
    "- **Bath**: (Number of bathrooms)\n",
    "- **acre_lot**: (land size measured in acre)\n",
    "- **Address**: city, state, zip_code\n",
    "- **House_size**: living space in square feet\n",
    "- **Prev_sold_date**: Date of the previous sale\n",
    "- **Price**: Current listing price\n"
   ]
  },
  {
   "cell_type": "code",
   "execution_count": 8,
   "metadata": {
    "id": "At9aqP_g0x0X"
   },
   "outputs": [
    {
     "name": "stdout",
     "output_type": "stream",
     "text": [
      "<class 'pandas.core.frame.DataFrame'>\n",
      "RangeIndex: 1401066 entries, 0 to 1401065\n",
      "Data columns (total 10 columns):\n",
      " #   Column          Non-Null Count    Dtype  \n",
      "---  ------          --------------    -----  \n",
      " 0   status          1401066 non-null  object \n",
      " 1   bed             1184538 non-null  float64\n",
      " 2   bath            1206853 non-null  float64\n",
      " 3   acre_lot        1043599 non-null  float64\n",
      " 4   city            1400875 non-null  object \n",
      " 5   state           1401066 non-null  object \n",
      " 6   zip_code        1400587 non-null  float64\n",
      " 7   house_size      950954 non-null   float64\n",
      " 8   prev_sold_date  714773 non-null   object \n",
      " 9   price           1400958 non-null  float64\n",
      "dtypes: float64(6), object(4)\n",
      "memory usage: 106.9+ MB\n"
     ]
    }
   ],
   "source": [
    "df.info()"
   ]
  },
  {
   "cell_type": "markdown",
   "metadata": {
    "id": "sUTWRxHOVSYB"
   },
   "source": [
    "# Data **preprocessing**"
   ]
  },
  {
   "cell_type": "code",
   "execution_count": 9,
   "metadata": {
    "id": "RmCSom5WxdY4"
   },
   "outputs": [
    {
     "data": {
      "text/plain": [
       "array([  3.,   4.,   2.,   6.,   5.,   1.,   9.,  nan,   7.,   8.,  12.,\n",
       "        13.,  10.,  11.,  33.,  24.,  28.,  14.,  18.,  20.,  16.,  15.,\n",
       "        19.,  17.,  40.,  21.,  86.,  31.,  27.,  42.,  60.,  22.,  32.,\n",
       "        99.,  49.,  29.,  30.,  23.,  46.,  36.,  68., 123.,  25.,  47.,\n",
       "        35.,  38.,  64.,  48.,  75.])"
      ]
     },
     "execution_count": 9,
     "metadata": {},
     "output_type": "execute_result"
    }
   ],
   "source": [
    "df['bed'].unique()"
   ]
  },
  {
   "cell_type": "code",
   "execution_count": 10,
   "metadata": {
    "id": "c-cHE7ggQzAt"
   },
   "outputs": [],
   "source": [
    "df['bed'] = df['bed'].apply(lambda x: Decimal(x).quantize(precision))"
   ]
  },
  {
   "cell_type": "code",
   "execution_count": 11,
   "metadata": {
    "id": "1K8jG83eQRnE"
   },
   "outputs": [],
   "source": [
    "df['bed'].unique()"
   ]
  },
  {
   "cell_type": "code",
   "execution_count": 12,
   "metadata": {
    "id": "1XtiHh3tRnZf"
   },
   "outputs": [
    {
     "data": {
      "text/plain": [
       "array([  2.,   1.,   3.,   5.,   4.,   7.,   6.,  nan,   8.,   9.,  10.,\n",
       "        12.,  13.,  35.,  11.,  16.,  15.,  18.,  20.,  14.,  36.,  25.,\n",
       "        17.,  19.,  56.,  42.,  51.,  28., 198.,  22.,  33.,  27.,  30.,\n",
       "        29.,  24.,  46.,  21., 123.,  39.,  43.,  32.,  45.,  64.])"
      ]
     },
     "execution_count": 12,
     "metadata": {},
     "output_type": "execute_result"
    }
   ],
   "source": [
    "df['bath'].unique()"
   ]
  },
  {
   "cell_type": "code",
   "execution_count": 13,
   "metadata": {
    "id": "WEXJB2W8RyOp"
   },
   "outputs": [],
   "source": [
    "df['bath'] = df['bath'].apply(lambda x: Decimal(x).quantize(precision))"
   ]
  },
  {
   "cell_type": "code",
   "execution_count": 14,
   "metadata": {
    "id": "MHuvuQDWR21T"
   },
   "outputs": [],
   "source": [
    "df['bath'].unique()"
   ]
  },
  {
   "cell_type": "markdown",
   "metadata": {
    "id": "ZtADzMf5R9dA"
   },
   "source": [
    "**since bath/bed columns are num.00 we will only change their datatypes from float to interger**"
   ]
  },
  {
   "cell_type": "code",
   "execution_count": 15,
   "metadata": {
    "id": "pWf5yrSDUKSg"
   },
   "outputs": [],
   "source": [
    "df['bed']=df['bed'].fillna(0)\n",
    "df['bath']=df['bath'].fillna(0)"
   ]
  },
  {
   "cell_type": "code",
   "execution_count": 16,
   "metadata": {
    "id": "_LB0lTIGUdK9"
   },
   "outputs": [],
   "source": [
    "df['bed'] = df['bed'].astype(int)"
   ]
  },
  {
   "cell_type": "code",
   "execution_count": 17,
   "metadata": {
    "id": "7jMCe7BNUqHH"
   },
   "outputs": [],
   "source": [
    "df['bath'] = df['bath'].astype(int)"
   ]
  },
  {
   "cell_type": "markdown",
   "metadata": {
    "id": "Vvx_jdqRSxA4"
   },
   "source": [
    "**changing zipcode column datatype from float to string**\n",
    "\n",
    "*   we dont neet this column in any calculation\n",
    "*   we want the model to understand its not an integer\n",
    "\n",
    "\n",
    "we dont need zipcode column in any calculation and we want the model to understand it is an address so we will change its datatype into string"
   ]
  },
  {
   "cell_type": "code",
   "execution_count": 18,
   "metadata": {
    "id": "UWOVuE58SJk5"
   },
   "outputs": [],
   "source": [
    "df['zip_code'] = df['zip_code'].astype(str)"
   ]
  },
  {
   "cell_type": "code",
   "execution_count": 19,
   "metadata": {
    "id": "9grP7pZcSqZX"
   },
   "outputs": [
    {
     "name": "stdout",
     "output_type": "stream",
     "text": [
      "<class 'pandas.core.frame.DataFrame'>\n",
      "RangeIndex: 1401066 entries, 0 to 1401065\n",
      "Data columns (total 10 columns):\n",
      " #   Column          Non-Null Count    Dtype  \n",
      "---  ------          --------------    -----  \n",
      " 0   status          1401066 non-null  object \n",
      " 1   bed             1401066 non-null  int32  \n",
      " 2   bath            1401066 non-null  int32  \n",
      " 3   acre_lot        1043599 non-null  float64\n",
      " 4   city            1400875 non-null  object \n",
      " 5   state           1401066 non-null  object \n",
      " 6   zip_code        1401066 non-null  object \n",
      " 7   house_size      950954 non-null   float64\n",
      " 8   prev_sold_date  714773 non-null   object \n",
      " 9   price           1400958 non-null  float64\n",
      "dtypes: float64(3), int32(2), object(5)\n",
      "memory usage: 96.2+ MB\n"
     ]
    }
   ],
   "source": [
    "df.info()"
   ]
  },
  {
   "cell_type": "markdown",
   "metadata": {
    "id": "qe5AiK1bUgD9"
   },
   "source": [
    "**Checking and dealing with nulls**"
   ]
  },
  {
   "cell_type": "code",
   "execution_count": 20,
   "metadata": {
    "id": "_aUbDw4yWQ5n"
   },
   "outputs": [],
   "source": [
    "df['ID'] = range(1, len(df) + 1)\n",
    "df = df[['ID'] + [col for col in df.columns if col != 'ID']]"
   ]
  },
  {
   "cell_type": "code",
   "execution_count": 21,
   "metadata": {
    "id": "sJlI_0c0UruH"
   },
   "outputs": [
    {
     "name": "stdout",
     "output_type": "stream",
     "text": [
      "Nulls  in ID: \n",
      "0\n",
      "\n",
      "Percentage of nulls  in ID: \n",
      "0.0\n",
      "\n",
      "Nulls  in status: \n",
      "0\n",
      "\n",
      "Percentage of nulls  in status: \n",
      "0.0\n",
      "\n",
      "Nulls  in bed: \n",
      "0\n",
      "\n",
      "Percentage of nulls  in bed: \n",
      "0.0\n",
      "\n",
      "Nulls  in bath: \n",
      "0\n",
      "\n",
      "Percentage of nulls  in bath: \n",
      "0.0\n",
      "\n",
      "Nulls  in acre_lot: \n",
      "357467\n",
      "\n",
      "Percentage of nulls  in acre_lot: \n",
      "25.513930107503857\n",
      "\n",
      "Nulls  in city: \n",
      "191\n",
      "\n",
      "Percentage of nulls  in city: \n",
      "0.013632476985381132\n",
      "\n",
      "Nulls  in state: \n",
      "0\n",
      "\n",
      "Percentage of nulls  in state: \n",
      "0.0\n",
      "\n",
      "Nulls  in zip_code: \n",
      "0\n",
      "\n",
      "Percentage of nulls  in zip_code: \n",
      "0.0\n",
      "\n",
      "Nulls  in house_size: \n",
      "450112\n",
      "\n",
      "Percentage of nulls  in house_size: \n",
      "32.126395187664244\n",
      "\n",
      "Nulls  in prev_sold_date: \n",
      "686293\n",
      "\n",
      "Percentage of nulls  in prev_sold_date: \n",
      "48.98363103522603\n",
      "\n",
      "Nulls  in price: \n",
      "108\n",
      "\n",
      "Percentage of nulls  in price: \n",
      "0.00770841630586996\n",
      "\n"
     ]
    }
   ],
   "source": [
    "Null_ID=[]\n",
    "for col in df:\n",
    "    nulls=df[col].isnull()\n",
    "    Null_ID.extend(df.loc[nulls, 'ID'].tolist())\n",
    "    print(f'Nulls  in {col}: \\n{nulls.sum()}\\n')\n",
    "    percentage=(nulls.sum()/len(df))*100\n",
    "    print(f'Percentage of nulls  in {col}: \\n{percentage}\\n')"
   ]
  },
  {
   "cell_type": "code",
   "execution_count": 22,
   "metadata": {
    "id": "Qk7h-W9PUxuH"
   },
   "outputs": [],
   "source": [
    "#filling the nulls by the mean of each  numerical column\n",
    "df['bed'] = df['bed'].replace(0, df['bed'][df['bed'] != 0].mean())\n",
    "df['bath'] = df['bath'].replace(0, df['bath'][df['bath'] != 0].mean())\n",
    "df['acre_lot'].fillna(df['acre_lot'].mean(), inplace=True)\n",
    "df['house_size'].fillna(df['house_size'].mean(), inplace=True)"
   ]
  },
  {
   "cell_type": "code",
   "execution_count": 23,
   "metadata": {
    "id": "n2X9GHDhVvmZ"
   },
   "outputs": [
    {
     "data": {
      "text/plain": [
       "ID                     0\n",
       "status                 0\n",
       "bed                    0\n",
       "bath                   0\n",
       "acre_lot               0\n",
       "city                 191\n",
       "state                  0\n",
       "zip_code               0\n",
       "house_size             0\n",
       "prev_sold_date    686293\n",
       "price                108\n",
       "dtype: int64"
      ]
     },
     "execution_count": 23,
     "metadata": {},
     "output_type": "execute_result"
    }
   ],
   "source": [
    "df.isnull().sum()"
   ]
  },
  {
   "cell_type": "code",
   "execution_count": 24,
   "metadata": {
    "id": "du5_EbCZVxoe"
   },
   "outputs": [],
   "source": [
    "#droping the previous sold date column as the nulls is almost 50%\n",
    "df = df.drop('prev_sold_date', axis=1)"
   ]
  },
  {
   "cell_type": "code",
   "execution_count": 25,
   "metadata": {
    "id": "0DAvx0TyV8oW"
   },
   "outputs": [],
   "source": [
    "#droping the nulls that in zip code , city and price as nulls are very little\n",
    "df=df.dropna(subset=['zip_code','city','price'])"
   ]
  },
  {
   "cell_type": "code",
   "execution_count": 26,
   "metadata": {
    "id": "6jmH-su0Wsho"
   },
   "outputs": [
    {
     "data": {
      "text/plain": [
       "ID            0\n",
       "status        0\n",
       "bed           0\n",
       "bath          0\n",
       "acre_lot      0\n",
       "city          0\n",
       "state         0\n",
       "zip_code      0\n",
       "house_size    0\n",
       "price         0\n",
       "dtype: int64"
      ]
     },
     "execution_count": 26,
     "metadata": {},
     "output_type": "execute_result"
    }
   ],
   "source": [
    "df.isnull().sum()"
   ]
  },
  {
   "cell_type": "markdown",
   "metadata": {
    "id": "b5dBC7-pWvMu"
   },
   "source": [
    "**Checking and dealing with outliers**"
   ]
  },
  {
   "cell_type": "code",
   "execution_count": 27,
   "metadata": {
    "id": "N8QQe8hLW5nK"
   },
   "outputs": [],
   "source": [
    "column=['bed','bath','acre_lot','house_size','price']"
   ]
  },
  {
   "cell_type": "code",
   "execution_count": 28,
   "metadata": {
    "id": "wR7sO5kNXNta"
   },
   "outputs": [
    {
     "data": {
      "image/png": "[encoded data removed]",
      "text/plain": [
       "<Figure size 640x480 with 1 Axes>"
      ]
     },
     "metadata": {},
     "output_type": "display_data"
    },
    {
     "data": {
      "image/png": "[encoded data removed]",
      "text/plain": [
       "<Figure size 640x480 with 1 Axes>"
      ]
     },
     "metadata": {},
     "output_type": "display_data"
    },
    {
     "data": {
      "image/png": "[encoded data removed]",
      "text/plain": [
       "<Figure size 640x480 with 1 Axes>"
      ]
     },
     "metadata": {},
     "output_type": "display_data"
    },
    {
     "data": {
      "image/png": "[encoded data removed]",
      "text/plain": [
       "<Figure size 640x480 with 1 Axes>"
      ]
     },
     "metadata": {},
     "output_type": "display_data"
    },
    {
     "data": {
      "image/png": "[encoded data removed]",
      "text/plain": [
       "<Figure size 640x480 with 1 Axes>"
      ]
     },
     "metadata": {},
     "output_type": "display_data"
    }
   ],
   "source": [
    "for col in column:\n",
    "  sns.boxplot(x=df[col])\n",
    "  plt.show()"
   ]
  },
  {
   "cell_type": "code",
   "execution_count": 29,
   "metadata": {
    "id": "_zm_ecGeXQly"
   },
   "outputs": [],
   "source": [
    " #Checking distribution of columns which have outliers\n",
    "for col in column:\n",
    "\n",
    "  sns.histplot(x = df[col], kde=True)\n",
    "  plt.show()"
   ]
  },
  {
   "cell_type": "code",
   "execution_count": 30,
   "metadata": {
    "id": "i7tHE0DzXVrU"
   },
   "outputs": [
    {
     "data": {
      "image/png": "[encoded data removed]",
      "text/plain": [
       "<Figure size 640x480 with 1 Axes>"
      ]
     },
     "metadata": {},
     "output_type": "display_data"
    },
    {
     "data": {
      "image/png": "[encoded data removed]",
      "text/plain": [
       "<Figure size 640x480 with 1 Axes>"
      ]
     },
     "metadata": {},
     "output_type": "display_data"
    },
    {
     "data": {
      "image/png": "[encoded data removed]",
      "text/plain": [
       "<Figure size 640x480 with 1 Axes>"
      ]
     },
     "metadata": {},
     "output_type": "display_data"
    },
    {
     "data": {
      "image/png": "[encoded data removed]",
      "text/plain": [
       "<Figure size 640x480 with 1 Axes>"
      ]
     },
     "metadata": {},
     "output_type": "display_data"
    },
    {
     "data": {
      "image/png": "[encoded data removed]",
      "text/plain": [
       "<Figure size 640x480 with 1 Axes>"
      ]
     },
     "metadata": {},
     "output_type": "display_data"
    },
    {
     "data": {
      "image/png": "[encoded data removed]",
      "text/plain": [
       "<Figure size 640x480 with 1 Axes>"
      ]
     },
     "metadata": {},
     "output_type": "display_data"
    },
    {
     "data": {
      "image/png": "[encoded data removed]",
      "text/plain": [
       "<Figure size 640x480 with 1 Axes>"
      ]
     },
     "metadata": {},
     "output_type": "display_data"
    },
    {
     "data": {
      "image/png": "[encoded data removed]",
      "text/plain": [
       "<Figure size 640x480 with 1 Axes>"
      ]
     },
     "metadata": {},
     "output_type": "display_data"
    },
    {
     "data": {
      "image/png": "[encoded data removed]",
      "text/plain": [
       "<Figure size 640x480 with 1 Axes>"
      ]
     },
     "metadata": {},
     "output_type": "display_data"
    },
    {
     "data": {
      "image/png": "[encoded data removed]",
      "text/plain": [
       "<Figure size 640x480 with 1 Axes>"
      ]
     },
     "metadata": {},
     "output_type": "display_data"
    }
   ],
   "source": [
    "# Fixing skewness using log transformation\n",
    "for col in column:\n",
    "\n",
    "  sns.boxenplot(x=np.log1p(df[col]))\n",
    "  plt.show()\n",
    "  sns.histplot(x=np.log1p(df[col]),kde=True)\n",
    "  plt.show()"
   ]
  },
  {
   "cell_type": "code",
   "execution_count": 32,
   "metadata": {
    "id": "EX1ytGezXWiy"
   },
   "outputs": [
    {
     "name": "stdout",
     "output_type": "stream",
     "text": [
      "bed\n",
      "123.0\n",
      "1.0\n",
      "bath\n",
      "198.0\n",
      "1.0\n",
      "arce_lot\n",
      "100000.0\n",
      "0.0\n",
      "house_size\n",
      "1450112.0\n",
      "4.0\n",
      "price\n",
      "875000000.0\n",
      "0.0\n"
     ]
    }
   ],
   "source": [
    "['bed','bath','acre_lot','house_size','price']\n",
    "\n",
    "print(\"bed\")\n",
    "Q1_bed,Q3_bed=df['bed'].quantile([0.25,0.75])\n",
    "\n",
    "# calculate max and min\n",
    "max_bed=max(df['bed'])\n",
    "min_bed=min(df['bed'])\n",
    "\n",
    "print(max_bed)\n",
    "print(min_bed)\n",
    "\n",
    "# print(max_bed-Q3_bed)\n",
    "# print(Q1_bed-min_bed)\n",
    "\n",
    "print(\"bath\")\n",
    "Q1_bath,Q3_bath=df['bath'].quantile([0.25,0.75])\n",
    "\n",
    "# calculate max and min\n",
    "max_bath=max(df['bath'])\n",
    "min_bath=min(df['bath'])\n",
    "\n",
    "print(max_bath)\n",
    "print(min_bath)\n",
    "# print(max_bath-Q3_bath)\n",
    "# print(Q1_bath-min_bath)\n",
    "\n",
    "print('arce_lot')\n",
    "Q1_arce,Q3_arce=df['acre_lot'].quantile([0.25,0.75])\n",
    "\n",
    "# calculate max and min\n",
    "max_arce=max(df['acre_lot'])\n",
    "min_arce=min(df['acre_lot'])\n",
    "\n",
    "print(max_arce)\n",
    "print(min_arce)\n",
    "\n",
    "# print(max_arce-Q3_arce)\n",
    "# print(Q1_arce-min_arce)\n",
    "\n",
    "print(\"house_size\")\n",
    "Q1_house,Q3_house=df['house_size'].quantile([0.25,0.75])\n",
    "\n",
    "# calculate max and min\n",
    "max_houseSize=max(df['house_size'])\n",
    "min_houseSize=min(df['house_size'])\n",
    "\n",
    "print(max_houseSize)\n",
    "print(min_houseSize)\n",
    "# print(max_houseSize-Q3_house)\n",
    "# print(Q1_house-min_houseSize)\n",
    "\n",
    "print('price')\n",
    "Q1_price,Q3_price=df['price'].quantile([0.25,0.75])\n",
    "\n",
    "# calculate max and min\n",
    "max_price = max(df['price'])\n",
    "min_price = min(df['price'])\n",
    "\n",
    "print(max_price)\n",
    "print(min_price)\n",
    "# print(max_price-Q3_price)\n",
    "# print(Q1_price-min_price)"
   ]
  },
  {
   "cell_type": "code",
   "execution_count": 33,
   "metadata": {},
   "outputs": [
    {
     "name": "stdout",
     "output_type": "stream",
     "text": [
      "Outliers number in bed: \n",
      "35589\n",
      "\n",
      "Percentage of Outliers  in bed: \n",
      "2.5406160185379516\n",
      "\n",
      "Outliers number in bath: \n",
      "87668\n",
      "\n",
      "Percentage of Outliers  in bath: \n",
      "6.258414822366045\n",
      "\n",
      "Outliers number in acre_lot: \n",
      "16076\n",
      "\n",
      "Percentage of Outliers  in acre_lot: \n",
      "1.147628287224033\n",
      "\n",
      "Outliers number in house_size: \n",
      "120498\n",
      "\n",
      "Percentage of Outliers  in house_size: \n",
      "8.602072241473099\n",
      "\n",
      "Outliers number in price: \n",
      "127484\n",
      "\n",
      "Percentage of Outliers  in price: \n",
      "9.100786549419547\n",
      "\n"
     ]
    }
   ],
   "source": [
    "# To check outliers\n",
    "Outlier_ID=[]\n",
    "for col in column:\n",
    "    Q1 = df[col].quantile(0.25)\n",
    "    Q3 = df[col].quantile(0.75)\n",
    "    IQR = Q3 - Q1\n",
    "    outliers = ((df[col] < (Q1 - 1.5 * IQR)) | (df[col] > (Q3 + 1.5 * IQR)))\n",
    "    print(f'Outliers number in {col}: \\n{outliers.sum()}\\n')\n",
    "    percentage=(outliers.sum()/len(df))*100\n",
    "    print(f'Percentage of Outliers  in {col}: \\n{percentage}\\n')"
   ]
  },
  {
   "cell_type": "code",
   "execution_count": 34,
   "metadata": {},
   "outputs": [
    {
     "name": "stdout",
     "output_type": "stream",
     "text": [
      "Outliers number in bed: \n",
      "8733\n",
      "\n",
      "Percentage of Outliers  in bed: \n",
      "0.6234285787713039\n",
      "\n",
      "Outliers number in bath: \n",
      "25712\n",
      "\n",
      "Percentage of Outliers  in bath: \n",
      "1.8355199378641662\n",
      "\n",
      "Outliers number in acre_lot: \n",
      "8488\n",
      "\n",
      "Percentage of Outliers  in acre_lot: \n",
      "0.6059385980316989\n",
      "\n",
      "Outliers number in house_size: \n",
      "55965\n",
      "\n",
      "Percentage of Outliers  in house_size: \n",
      "3.9952113146611725\n",
      "\n",
      "Outliers number in price: \n",
      "73092\n",
      "\n",
      "Percentage of Outliers  in price: \n",
      "5.217868049874286\n",
      "\n"
     ]
    }
   ],
   "source": [
    "# To check extreme outliers\n",
    "Outlier_ID=[]\n",
    "for col in column:\n",
    "    Q1 = df[col].quantile(0.25)\n",
    "    Q3 = df[col].quantile(0.75)\n",
    "    IQR = Q3 - Q1\n",
    "    outliers = ((df[col] < (Q1 - 3 * IQR)) | (df[col] > (Q3 + 3 * IQR)))\n",
    "    print(f'Outliers number in {col}: \\n{outliers.sum()}\\n')\n",
    "    percentage=(outliers.sum()/len(df))*100\n",
    "    print(f'Percentage of Outliers  in {col}: \\n{percentage}\\n')"
   ]
  },
  {
   "cell_type": "code",
   "execution_count": 35,
   "metadata": {},
   "outputs": [],
   "source": [
    "def remove_outlier(col):\n",
    "\n",
    "  sorted(col)\n",
    "  Q1,Q3=col.quantile([0.25,0.75])\n",
    "  IQR=Q3-Q1\n",
    "  lower_bound=Q1-(3*IQR)\n",
    "  upper_bound=Q3+(3*IQR)\n",
    "  return lower_bound,upper_bound"
   ]
  },
  {
   "cell_type": "code",
   "execution_count": 36,
   "metadata": {
    "id": "To4IGW10XZ4P"
   },
   "outputs": [
    {
     "name": "stdout",
     "output_type": "stream",
     "text": [
      "-4.0 10.0\n"
     ]
    },
    {
     "data": {
      "image/png": "[encoded data removed]",
      "text/plain": [
       "<Figure size 640x480 with 1 Axes>"
      ]
     },
     "metadata": {},
     "output_type": "display_data"
    },
    {
     "name": "stdout",
     "output_type": "stream",
     "text": [
      "-1.0 6.0\n"
     ]
    },
    {
     "data": {
      "image/png": "[encoded data removed]",
      "text/plain": [
       "<Figure size 640x480 with 1 Axes>"
      ]
     },
     "metadata": {},
     "output_type": "display_data"
    },
    {
     "name": "stdout",
     "output_type": "stream",
     "text": [
      "-95.77039299579654 128.0905239943954\n"
     ]
    },
    {
     "data": {
      "image/png": "[encoded data removed]",
      "text/plain": [
       "<Figure size 640x480 with 1 Axes>"
      ]
     },
     "metadata": {},
     "output_type": "display_data"
    },
    {
     "name": "stdout",
     "output_type": "stream",
     "text": [
      "-919.9276168983993 4502.570155864532\n"
     ]
    },
    {
     "data": {
      "image/png": "[encoded data removed]",
      "text/plain": [
       "<Figure size 640x480 with 1 Axes>"
      ]
     },
     "metadata": {},
     "output_type": "display_data"
    },
    {
     "name": "stdout",
     "output_type": "stream",
     "text": [
      "-1445000.0 2475000.0\n"
     ]
    },
    {
     "data": {
      "image/png": "[encoded data removed]",
      "text/plain": [
       "<Figure size 640x480 with 1 Axes>"
      ]
     },
     "metadata": {},
     "output_type": "display_data"
    }
   ],
   "source": [
    "for col in column :\n",
    "  lower_bound,upper_bound=remove_outlier(df[col])\n",
    "  df[col]=np.where(df[col]<lower_bound,lower_bound,df[col])\n",
    "  df[col]=np.where(df[col]>upper_bound,upper_bound,df[col])\n",
    "  print(lower_bound,upper_bound)\n",
    "  sns.boxenplot(x=df[col])\n",
    "  plt.show()"
   ]
  },
  {
   "cell_type": "code",
   "execution_count": 37,
   "metadata": {
    "id": "Zf_k0tz0Xf-T"
   },
   "outputs": [
    {
     "data": {
      "image/png": "[encoded data removed]",
      "text/plain": [
       "<Figure size 640x480 with 1 Axes>"
      ]
     },
     "metadata": {},
     "output_type": "display_data"
    },
    {
     "data": {
      "image/png": "[encoded data removed]",
      "text/plain": [
       "<Figure size 640x480 with 1 Axes>"
      ]
     },
     "metadata": {},
     "output_type": "display_data"
    },
    {
     "data": {
      "image/png": "[encoded data removed]",
      "text/plain": [
       "<Figure size 640x480 with 1 Axes>"
      ]
     },
     "metadata": {},
     "output_type": "display_data"
    },
    {
     "data": {
      "image/png": "[encoded data removed]",
      "text/plain": [
       "<Figure size 640x480 with 1 Axes>"
      ]
     },
     "metadata": {},
     "output_type": "display_data"
    },
    {
     "data": {
      "image/png": "[encoded data removed]",
      "text/plain": [
       "<Figure size 640x480 with 1 Axes>"
      ]
     },
     "metadata": {},
     "output_type": "display_data"
    }
   ],
   "source": [
    "for col in column:\n",
    "  sns.boxplot(x=df[col])\n",
    "  plt.show()"
   ]
  },
  {
   "cell_type": "code",
   "execution_count": 39,
   "metadata": {
    "id": "FrtLzFgZYB-R"
   },
   "outputs": [
    {
     "name": "stdout",
     "output_type": "stream",
     "text": [
      "Outliers number in bed: \n",
      "0\n",
      "\n",
      "Percentage of Outliers  in bed: \n",
      "0.0\n",
      "\n",
      "Outliers number in bath: \n",
      "0\n",
      "\n",
      "Percentage of Outliers  in bath: \n",
      "0.0\n",
      "\n",
      "Outliers number in acre_lot: \n",
      "0\n",
      "\n",
      "Percentage of Outliers  in acre_lot: \n",
      "0.0\n",
      "\n",
      "Outliers number in house_size: \n",
      "0\n",
      "\n",
      "Percentage of Outliers  in house_size: \n",
      "0.0\n",
      "\n",
      "Outliers number in price: \n",
      "0\n",
      "\n",
      "Percentage of Outliers  in price: \n",
      "0.0\n",
      "\n"
     ]
    }
   ],
   "source": [
    "# To check that no extreme outliers anymore\n",
    "Outlier_ID=[]\n",
    "for col in column:\n",
    "    Q1 = df[col].quantile(0.25)\n",
    "    Q3 = df[col].quantile(0.75)\n",
    "    IQR = Q3 - Q1\n",
    "    outliers = ((df[col] < (Q1 - 3 * IQR)) | (df[col] > (Q3 + 3 * IQR)))\n",
    "    print(f'Outliers number in {col}: \\n{outliers.sum()}\\n')\n",
    "    percentage=(outliers.sum()/len(df))*100\n",
    "    print(f'Percentage of Outliers  in {col}: \\n{percentage}\\n')"
   ]
  },
  {
   "cell_type": "code",
   "execution_count": 42,
   "metadata": {
    "id": "EbP2hTcSaWLC"
   },
   "outputs": [],
   "source": [
    "#renaming our features\n",
    "df = df.rename(columns={'acre_lot': 'land size in acre','bed':'number of bedrooms','bath':'number of bathrooms'})"
   ]
  },
  {
   "cell_type": "code",
   "execution_count": 43,
   "metadata": {},
   "outputs": [
    {
     "data": {
      "text/html": [
       "<div>\n",
       "<style scoped>\n",
       "    .dataframe tbody tr th:only-of-type {\n",
       "        vertical-align: middle;\n",
       "    }\n",
       "\n",
       "    .dataframe tbody tr th {\n",
       "        vertical-align: top;\n",
       "    }\n",
       "\n",
       "    .dataframe thead th {\n",
       "        text-align: right;\n",
       "    }\n",
       "</style>\n",
       "<table border=\"1\" class=\"dataframe\">\n",
       "  <thead>\n",
       "    <tr style=\"text-align: right;\">\n",
       "      <th></th>\n",
       "      <th>ID</th>\n",
       "      <th>status</th>\n",
       "      <th>number of bedrooms</th>\n",
       "      <th>number of bathrooms</th>\n",
       "      <th>land size in acre</th>\n",
       "      <th>city</th>\n",
       "      <th>state</th>\n",
       "      <th>zip_code</th>\n",
       "      <th>house_size</th>\n",
       "      <th>price</th>\n",
       "    </tr>\n",
       "  </thead>\n",
       "  <tbody>\n",
       "    <tr>\n",
       "      <th>0</th>\n",
       "      <td>1</td>\n",
       "      <td>for_sale</td>\n",
       "      <td>3.0</td>\n",
       "      <td>2.0</td>\n",
       "      <td>0.12</td>\n",
       "      <td>Adjuntas</td>\n",
       "      <td>Puerto Rico</td>\n",
       "      <td>601.0</td>\n",
       "      <td>920.00</td>\n",
       "      <td>105000.0</td>\n",
       "    </tr>\n",
       "    <tr>\n",
       "      <th>1</th>\n",
       "      <td>2</td>\n",
       "      <td>for_sale</td>\n",
       "      <td>4.0</td>\n",
       "      <td>2.0</td>\n",
       "      <td>0.08</td>\n",
       "      <td>Adjuntas</td>\n",
       "      <td>Puerto Rico</td>\n",
       "      <td>601.0</td>\n",
       "      <td>1527.00</td>\n",
       "      <td>80000.0</td>\n",
       "    </tr>\n",
       "    <tr>\n",
       "      <th>2</th>\n",
       "      <td>3</td>\n",
       "      <td>for_sale</td>\n",
       "      <td>2.0</td>\n",
       "      <td>1.0</td>\n",
       "      <td>0.15</td>\n",
       "      <td>Juana Diaz</td>\n",
       "      <td>Puerto Rico</td>\n",
       "      <td>795.0</td>\n",
       "      <td>748.00</td>\n",
       "      <td>67000.0</td>\n",
       "    </tr>\n",
       "    <tr>\n",
       "      <th>3</th>\n",
       "      <td>4</td>\n",
       "      <td>for_sale</td>\n",
       "      <td>4.0</td>\n",
       "      <td>2.0</td>\n",
       "      <td>0.10</td>\n",
       "      <td>Ponce</td>\n",
       "      <td>Puerto Rico</td>\n",
       "      <td>731.0</td>\n",
       "      <td>1800.00</td>\n",
       "      <td>145000.0</td>\n",
       "    </tr>\n",
       "    <tr>\n",
       "      <th>4</th>\n",
       "      <td>5</td>\n",
       "      <td>for_sale</td>\n",
       "      <td>6.0</td>\n",
       "      <td>2.0</td>\n",
       "      <td>0.05</td>\n",
       "      <td>Mayaguez</td>\n",
       "      <td>Puerto Rico</td>\n",
       "      <td>680.0</td>\n",
       "      <td>2178.64</td>\n",
       "      <td>65000.0</td>\n",
       "    </tr>\n",
       "  </tbody>\n",
       "</table>\n",
       "</div>"
      ],
      "text/plain": [
       "   ID    status  number of bedrooms  number of bathrooms  land size in acre  \\\n",
       "0   1  for_sale                 3.0                  2.0               0.12   \n",
       "1   2  for_sale                 4.0                  2.0               0.08   \n",
       "2   3  for_sale                 2.0                  1.0               0.15   \n",
       "3   4  for_sale                 4.0                  2.0               0.10   \n",
       "4   5  for_sale                 6.0                  2.0               0.05   \n",
       "\n",
       "         city        state zip_code  house_size     price  \n",
       "0    Adjuntas  Puerto Rico    601.0      920.00  105000.0  \n",
       "1    Adjuntas  Puerto Rico    601.0     1527.00   80000.0  \n",
       "2  Juana Diaz  Puerto Rico    795.0      748.00   67000.0  \n",
       "3       Ponce  Puerto Rico    731.0     1800.00  145000.0  \n",
       "4    Mayaguez  Puerto Rico    680.0     2178.64   65000.0  "
      ]
     },
     "execution_count": 43,
     "metadata": {},
     "output_type": "execute_result"
    }
   ],
   "source": [
    "df.head()"
   ]
  },
  {
   "cell_type": "code",
   "execution_count": 44,
   "metadata": {},
   "outputs": [],
   "source": [
    "df.to_csv(\"US_real_estate_analysis.csv\")"
   ]
  },
  {
   "cell_type": "code",
   "execution_count": null,
   "metadata": {},
   "outputs": [],
   "source": []
  }
 ],
 "metadata": {
  "colab": {
   "provenance": []
  },
  "kernelspec": {
   "display_name": "Python 3 (ipykernel)",
   "language": "python",
   "name": "python3"
  },
  "language_info": {
   "codemirror_mode": {
    "name": "ipython",
    "version": 3
   },
   "file_extension": ".py",
   "mimetype": "text/x-python",
   "name": "python",
   "nbconvert_exporter": "python",
   "pygments_lexer": "ipython3",
   "version": "3.9.13"
  }
 },
 "nbformat": 4,
 "nbformat_minor": 1
}
